{
 "cells": [
  {
   "cell_type": "markdown",
   "metadata": {},
   "source": [
    "### Punkt 1 i 2\n",
    "Wybór białka (HNRNPC/HNRNPA2B1) analizowanego podczas eksperymentów, co\n",
    "jednoznacznie identyfikuje wykorzystywany zestaw danych.\n",
    "\n",
    "Zapoznanie się z motywem oczekiwanym, wyekstrahowanym na podstawie\n",
    "eksperymentalnie określonej struktury 3D kompleksu, utworzonego przez analizowane\n",
    "białko wiążące z RNA, w celu identyfikacji liczby wchodzących w jego skład nukleotydów\n",
    "(len). Załóżmy, że nasz motyw oczekiwany to TTTT, wtedy len = 4."
   ]
  },
  {
   "cell_type": "code",
   "execution_count": 1,
   "metadata": {},
   "outputs": [],
   "source": [
    "import numpy as np\n",
    "import pandas as pd\n",
    "import stumpy\n",
    "\n",
    "import math\n",
    "from collections import Counter, defaultdict\n",
    "from matplotlib import pyplot as plt\n",
    "from sklearn.cluster import DBSCAN, OPTICS, KMeans\n",
    "from sklearn.decomposition import PCA\n",
    "from src.datasets.dataset import Dataset"
   ]
  },
  {
   "cell_type": "code",
   "execution_count": 2,
   "metadata": {},
   "outputs": [
    {
     "name": "stdout",
     "output_type": "stream",
     "text": [
      "[memo::read-406c9d...] Loading from memory.\n"
     ]
    }
   ],
   "source": [
    "dataset = Dataset.read('./resources/datasets/HNRNPA2B1')"
   ]
  },
  {
   "cell_type": "code",
   "execution_count": 3,
   "metadata": {},
   "outputs": [
    {
     "name": "stdout",
     "output_type": "stream",
     "text": [
      "(11, 2)\n"
     ]
    },
    {
     "data": {
      "text/html": [
       "<div>\n",
       "<style scoped>\n",
       "    .dataframe tbody tr th:only-of-type {\n",
       "        vertical-align: middle;\n",
       "    }\n",
       "\n",
       "    .dataframe tbody tr th {\n",
       "        vertical-align: top;\n",
       "    }\n",
       "\n",
       "    .dataframe thead th {\n",
       "        text-align: right;\n",
       "    }\n",
       "</style>\n",
       "<table border=\"1\" class=\"dataframe\">\n",
       "  <thead>\n",
       "    <tr style=\"text-align: right;\">\n",
       "      <th></th>\n",
       "      <th>fshape_coefficient</th>\n",
       "      <th>base</th>\n",
       "    </tr>\n",
       "  </thead>\n",
       "  <tbody>\n",
       "    <tr>\n",
       "      <th>0</th>\n",
       "      <td>0.0</td>\n",
       "      <td>NaN</td>\n",
       "    </tr>\n",
       "    <tr>\n",
       "      <th>1</th>\n",
       "      <td>1.0</td>\n",
       "      <td>NaN</td>\n",
       "    </tr>\n",
       "    <tr>\n",
       "      <th>2</th>\n",
       "      <td>2.0</td>\n",
       "      <td>A</td>\n",
       "    </tr>\n",
       "    <tr>\n",
       "      <th>3</th>\n",
       "      <td>3.0</td>\n",
       "      <td>G</td>\n",
       "    </tr>\n",
       "    <tr>\n",
       "      <th>4</th>\n",
       "      <td>2.0</td>\n",
       "      <td>G</td>\n",
       "    </tr>\n",
       "    <tr>\n",
       "      <th>5</th>\n",
       "      <td>0.0</td>\n",
       "      <td>NaN</td>\n",
       "    </tr>\n",
       "    <tr>\n",
       "      <th>6</th>\n",
       "      <td>0.0</td>\n",
       "      <td>NaN</td>\n",
       "    </tr>\n",
       "    <tr>\n",
       "      <th>7</th>\n",
       "      <td>1.0</td>\n",
       "      <td>T</td>\n",
       "    </tr>\n",
       "    <tr>\n",
       "      <th>8</th>\n",
       "      <td>0.5</td>\n",
       "      <td>A</td>\n",
       "    </tr>\n",
       "    <tr>\n",
       "      <th>9</th>\n",
       "      <td>0.5</td>\n",
       "      <td>G</td>\n",
       "    </tr>\n",
       "    <tr>\n",
       "      <th>10</th>\n",
       "      <td>0.0</td>\n",
       "      <td>NaN</td>\n",
       "    </tr>\n",
       "  </tbody>\n",
       "</table>\n",
       "</div>"
      ],
      "text/plain": [
       "    fshape_coefficient base\n",
       "0                  0.0  NaN\n",
       "1                  1.0  NaN\n",
       "2                  2.0    A\n",
       "3                  3.0    G\n",
       "4                  2.0    G\n",
       "5                  0.0  NaN\n",
       "6                  0.0  NaN\n",
       "7                  1.0    T\n",
       "8                  0.5    A\n",
       "9                  0.5    G\n",
       "10                 0.0  NaN"
      ]
     },
     "execution_count": 3,
     "metadata": {},
     "output_type": "execute_result"
    }
   ],
   "source": [
    "print(dataset.pattern.shape)\n",
    "dataset.pattern"
   ]
  },
  {
   "cell_type": "code",
   "execution_count": 4,
   "metadata": {},
   "outputs": [
    {
     "name": "stdout",
     "output_type": "stream",
     "text": [
      "1098\n"
     ]
    },
    {
     "data": {
      "text/html": [
       "<div>\n",
       "<style scoped>\n",
       "    .dataframe tbody tr th:only-of-type {\n",
       "        vertical-align: middle;\n",
       "    }\n",
       "\n",
       "    .dataframe tbody tr th {\n",
       "        vertical-align: top;\n",
       "    }\n",
       "\n",
       "    .dataframe thead th {\n",
       "        text-align: right;\n",
       "    }\n",
       "</style>\n",
       "<table border=\"1\" class=\"dataframe\">\n",
       "  <thead>\n",
       "    <tr style=\"text-align: right;\">\n",
       "      <th></th>\n",
       "      <th>fshape_coefficient</th>\n",
       "      <th>base</th>\n",
       "      <th>shape_coefficient</th>\n",
       "    </tr>\n",
       "  </thead>\n",
       "  <tbody>\n",
       "    <tr>\n",
       "      <th>0</th>\n",
       "      <td>NaN</td>\n",
       "      <td>G</td>\n",
       "      <td>NaN</td>\n",
       "    </tr>\n",
       "    <tr>\n",
       "      <th>1</th>\n",
       "      <td>NaN</td>\n",
       "      <td>C</td>\n",
       "      <td>NaN</td>\n",
       "    </tr>\n",
       "    <tr>\n",
       "      <th>2</th>\n",
       "      <td>0.410644</td>\n",
       "      <td>A</td>\n",
       "      <td>NaN</td>\n",
       "    </tr>\n",
       "    <tr>\n",
       "      <th>3</th>\n",
       "      <td>4.847446</td>\n",
       "      <td>C</td>\n",
       "      <td>NaN</td>\n",
       "    </tr>\n",
       "    <tr>\n",
       "      <th>4</th>\n",
       "      <td>0.286998</td>\n",
       "      <td>A</td>\n",
       "      <td>NaN</td>\n",
       "    </tr>\n",
       "  </tbody>\n",
       "</table>\n",
       "</div>"
      ],
      "text/plain": [
       "   fshape_coefficient base  shape_coefficient\n",
       "0                 NaN    G                NaN\n",
       "1                 NaN    C                NaN\n",
       "2            0.410644    A                NaN\n",
       "3            4.847446    C                NaN\n",
       "4            0.286998    A                NaN"
      ]
     },
     "execution_count": 4,
     "metadata": {},
     "output_type": "execute_result"
    }
   ],
   "source": [
    "print(len(dataset.searches))\n",
    "dataset.searches[0].head()"
   ]
  },
  {
   "cell_type": "code",
   "execution_count": 5,
   "metadata": {},
   "outputs": [
    {
     "name": "stdout",
     "output_type": "stream",
     "text": [
      "71\n"
     ]
    },
    {
     "data": {
      "text/html": [
       "<div>\n",
       "<style scoped>\n",
       "    .dataframe tbody tr th:only-of-type {\n",
       "        vertical-align: middle;\n",
       "    }\n",
       "\n",
       "    .dataframe tbody tr th {\n",
       "        vertical-align: top;\n",
       "    }\n",
       "\n",
       "    .dataframe thead th {\n",
       "        text-align: right;\n",
       "    }\n",
       "</style>\n",
       "<table border=\"1\" class=\"dataframe\">\n",
       "  <thead>\n",
       "    <tr style=\"text-align: right;\">\n",
       "      <th></th>\n",
       "      <th>fshape_coefficient</th>\n",
       "      <th>base</th>\n",
       "    </tr>\n",
       "  </thead>\n",
       "  <tbody>\n",
       "    <tr>\n",
       "      <th>0</th>\n",
       "      <td>4.222436</td>\n",
       "      <td>T</td>\n",
       "    </tr>\n",
       "    <tr>\n",
       "      <th>1</th>\n",
       "      <td>2.337724</td>\n",
       "      <td>T</td>\n",
       "    </tr>\n",
       "    <tr>\n",
       "      <th>2</th>\n",
       "      <td>4.173553</td>\n",
       "      <td>G</td>\n",
       "    </tr>\n",
       "    <tr>\n",
       "      <th>3</th>\n",
       "      <td>4.839571</td>\n",
       "      <td>A</td>\n",
       "    </tr>\n",
       "    <tr>\n",
       "      <th>4</th>\n",
       "      <td>4.003999</td>\n",
       "      <td>A</td>\n",
       "    </tr>\n",
       "  </tbody>\n",
       "</table>\n",
       "</div>"
      ],
      "text/plain": [
       "   fshape_coefficient base\n",
       "0            4.222436    T\n",
       "1            2.337724    T\n",
       "2            4.173553    G\n",
       "3            4.839571    A\n",
       "4            4.003999    A"
      ]
     },
     "execution_count": 5,
     "metadata": {},
     "output_type": "execute_result"
    }
   ],
   "source": [
    "print(len(dataset.sites))\n",
    "dataset.sites[0].head()"
   ]
  },
  {
   "cell_type": "markdown",
   "metadata": {},
   "source": [
    "### Punkt 3\n",
    "Określenie długości potencjalnie obiecujących motywów w = {len, len + 1, len + 2}.\n",
    "Załóżmy, że nasz motyw oczekiwany to TTTT (len = 4), wtedy len + 1 = {NTTTT, TTTTN}, a\n",
    "len + 2 = {NTTTTN}, gdzie N to dowolny nukleotyd."
   ]
  },
  {
   "cell_type": "code",
   "execution_count": 6,
   "metadata": {},
   "outputs": [
    {
     "data": {
      "text/plain": [
       "[11, 12, 13]"
      ]
     },
     "execution_count": 6,
     "metadata": {},
     "output_type": "execute_result"
    }
   ],
   "source": [
    "expected_motif_length = len(dataset.pattern)\n",
    "window_sizes = [expected_motif_length + x for x in range(3)]\n",
    "window_sizes"
   ]
  },
  {
   "cell_type": "code",
   "execution_count": 7,
   "metadata": {},
   "outputs": [],
   "source": [
    "def is_motif_promising(window: pd.Series) -> bool:\n",
    "    return not window.isnull().any() and (window > 1).any()"
   ]
  },
  {
   "cell_type": "markdown",
   "metadata": {},
   "source": [
    "### Punkt 4\n",
    "\n",
    "Ekstrakcja wszystkich obiecujących, ciągłych motywów (reprezentowanych przez\n",
    "odpowiadające im profile danych fSHAPE) o długości w = len … len + 2 spełniających\n",
    "założoną charakterystykę miejsca wiązania, w oparciu o wartości współczynnika\n",
    "reaktywności uzyskane metodą fSHAPE (tzn. wartość reaktywności dla przynajmniej\n",
    "jednego nukleotydu w ramach motywu musi przekraczać wartość 1.0), spośród krótkich\n",
    "fragmentów transkryptów zawartych w archiwum\n",
    "identyfikator_wybranego_białka_binding_sites_fshape.zip, które prawdopodobnie\n",
    "zawierają nieodkryte dotąd miejsca wiązań RNA z rozpatrywanym białkiem."
   ]
  },
  {
   "cell_type": "code",
   "execution_count": 8,
   "metadata": {},
   "outputs": [
    {
     "name": "stdout",
     "output_type": "stream",
     "text": [
      "Example\n",
      "Fshape: [  4.2224361    2.33772398   4.17355287   4.83957116   4.00399883\n",
      "   1.51389289   0.51807962 -10.56896471  -7.17275854 -11.53065754\n",
      "  -3.00704761]\n",
      "Motif: ['T' 'T' 'G' 'A' 'A' 'T' 'T' 'G' 'A' 'T' 'A']\n"
     ]
    }
   ],
   "source": [
    "promising_fshapes = defaultdict(list)\n",
    "promising_motifs = defaultdict(list)\n",
    "\n",
    "for site in dataset.sites:\n",
    "    for window_size in window_sizes:\n",
    "        for i in range(len(site) - window_size + 1):\n",
    "            window = site.fshape_coefficient[i : i + window_size]\n",
    "\n",
    "            if is_motif_promising(window):\n",
    "                promising_fshapes[window_size].append(window.to_numpy())\n",
    "                promising_motifs[window_size].append(site.base[i : i + window_size].to_numpy())\n",
    "\n",
    "print(\n",
    "    f\"Example\\nFshape: {promising_fshapes[window_sizes[0]][0]}\\nMotif: {promising_motifs[window_sizes[0]][0]}\"\n",
    ")"
   ]
  }
 ],
 "metadata": {
  "kernelspec": {
   "display_name": ".venv",
   "language": "python",
   "name": "python3"
  },
  "language_info": {
   "codemirror_mode": {
    "name": "ipython",
    "version": 3
   },
   "file_extension": ".py",
   "mimetype": "text/x-python",
   "name": "python",
   "nbconvert_exporter": "python",
   "pygments_lexer": "ipython3",
   "version": "3.10.12"
  }
 },
 "nbformat": 4,
 "nbformat_minor": 2
}
