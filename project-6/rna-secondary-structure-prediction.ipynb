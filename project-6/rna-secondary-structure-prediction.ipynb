{
 "cells": [
  {
   "cell_type": "markdown",
   "metadata": {},
   "source": [
    "# Projekt 6: Przewidywanie struktury drugorzędowej RNA"
   ]
  },
  {
   "cell_type": "code",
   "execution_count": 1,
   "metadata": {
    "ExecuteTime": {
     "end_time": "2024-05-14T12:50:47.575905715Z",
     "start_time": "2024-05-14T12:50:47.566254472Z"
    }
   },
   "outputs": [],
   "source": [
    "# %pip install matplotlib pandas seaborn"
   ]
  },
  {
   "cell_type": "code",
   "execution_count": 2,
   "metadata": {
    "ExecuteTime": {
     "end_time": "2024-05-14T12:50:47.603463280Z",
     "start_time": "2024-05-14T12:50:47.582912838Z"
    }
   },
   "outputs": [],
   "source": [
    "import os\n",
    "import random\n",
    "from collections import defaultdict\n",
    "from pathlib import Path\n",
    "\n",
    "import matplotlib.pyplot as plt\n",
    "import pandas as pd\n",
    "import seaborn as sns\n",
    "\n",
    "DatasetDirectory = Path(\"./resources/datasets\")\n",
    "ModelDirectory = Path(\"./resources/models\")\n",
    "ResultsDirectory = Path(\"./resources/results\")\n",
    "FiguresDirectory = Path(\"./resources/figures\")"
   ]
  },
  {
   "cell_type": "code",
   "execution_count": 3,
   "metadata": {
    "ExecuteTime": {
     "end_time": "2024-05-14T12:50:47.606512342Z",
     "start_time": "2024-05-14T12:50:47.595286088Z"
    }
   },
   "outputs": [],
   "source": [
    "def split_datasets(\n",
    "    path: Path, train_ratio: float = 0.7, valid_ratio: float = 0.15, test_ratio: float = 0.15\n",
    ") -> None:\n",
    "    random.seed(42)\n",
    "    files = [f\"{path}/{f}\" for f in os.listdir(path) if f.endswith(\".bpseq\")]\n",
    "    random.shuffle(files)\n",
    "\n",
    "    total_files = len(files)\n",
    "    train_count = int(total_files * train_ratio)\n",
    "    valid_count = int(total_files * valid_ratio)\n",
    "\n",
    "    train_files = files[:train_count]\n",
    "    valid_files = files[train_count : train_count + valid_count]\n",
    "    test_files = files[train_count + valid_count :]\n",
    "\n",
    "    with open(f\"{path}-train-bpseq.lst\", \"w\") as f:\n",
    "        f.write(\"\\n\".join(train_files))\n",
    "    with open(f\"{path}-valid-bpseq.lst\", \"w\") as f:\n",
    "        f.write(\"\\n\".join(valid_files))\n",
    "    with open(f\"{path}-test-bpseq.lst\", \"w\") as f:\n",
    "        f.write(\"\\n\".join(test_files))\n",
    "\n",
    "    with open(f\"{path}-train-fa.lst\", \"w\") as f:\n",
    "        f.write(\"\\n\".join(train_files).replace(\".bpseq\", \".fa\"))\n",
    "    with open(f\"{path}-valid-fa.lst\", \"w\") as f:\n",
    "        f.write(\"\\n\".join(valid_files).replace(\".bpseq\", \".fa\"))\n",
    "    with open(f\"{path}-test-fa.lst\", \"w\") as f:\n",
    "        f.write(\"\\n\".join(test_files).replace(\".bpseq\", \".fa\"))\n",
    "\n",
    "\n",
    "def datasets_sanity_check() -> None:\n",
    "    lst_files = [file for file in os.listdir(DatasetDirectory) if file.endswith(\".lst\")]\n",
    "\n",
    "    for file in lst_files:\n",
    "        file_path = DatasetDirectory / file\n",
    "        with open(file_path, \"r\") as f:\n",
    "            lines = f.readlines()\n",
    "        num_lines = len(lines)\n",
    "\n",
    "        total_files = len(os.listdir(DatasetDirectory / file.split(\"-\")[0])) // 2\n",
    "        print(f\"{file:<25} has {round(num_lines / total_files * 100)}% files ({num_lines})\")"
   ]
  },
  {
   "cell_type": "code",
   "execution_count": 4,
   "metadata": {
    "ExecuteTime": {
     "end_time": "2024-05-14T12:50:47.701215513Z",
     "start_time": "2024-05-14T12:50:47.604177313Z"
    }
   },
   "outputs": [
    {
     "name": "stdout",
     "output_type": "stream",
     "text": [
      "ArchiveII-train-fa.lst    has 70% files (2779)\n",
      "PDB-train-fa.lst          has 70% files (413)\n",
      "ArchiveII-test-bpseq.lst  has 15% files (596)\n",
      "ArchiveII-test-fa.lst     has 15% files (596)\n",
      "ArchiveII-valid-fa.lst    has 15% files (595)\n",
      "PDB-valid-fa.lst          has 15% files (88)\n",
      "PDB-valid-bpseq.lst       has 15% files (88)\n",
      "PDB-test-bpseq.lst        has 15% files (89)\n",
      "ArchiveII-train-bpseq.lst has 70% files (2779)\n",
      "PDB-test-fa.lst           has 15% files (89)\n",
      "ArchiveII-valid-bpseq.lst has 15% files (595)\n",
      "PDB-train-bpseq.lst       has 70% files (413)\n"
     ]
    }
   ],
   "source": [
    "split_datasets(DatasetDirectory / \"ArchiveII\")\n",
    "split_datasets(DatasetDirectory / \"PDB\")\n",
    "datasets_sanity_check()"
   ]
  },
  {
   "cell_type": "markdown",
   "metadata": {},
   "source": [
    "## ArchiveII Dataset"
   ]
  },
  {
   "cell_type": "code",
   "execution_count": 5,
   "metadata": {
    "is_executing": true
   },
   "outputs": [],
   "source": [
    "GpuCount: int = -1\n",
    "EpochCount: int = 10"
   ]
  },
  {
   "cell_type": "code",
   "execution_count": 6,
   "metadata": {
    "is_executing": true
   },
   "outputs": [
    {
     "name": "stdout",
     "output_type": "stream",
     "text": [
      "100%|█████████████████| 2779/2779 [07:20<00:00,  6.31it/s, train_loss=1.391e-01]\n",
      "Train Epoch: 1\tLoss: 0.139070\tTime: 440.208s\n",
      "100%|████████████████████| 595/595 [01:58<00:00,  5.03it/s, test_loss=1.363e-01]\n",
      "Test Epoch: 1\tLoss: 0.136262\tTime: 118.305s\n",
      "100%|█████████████████| 2779/2779 [07:19<00:00,  6.32it/s, train_loss=1.358e-01]\n",
      "Train Epoch: 2\tLoss: 0.135770\tTime: 439.557s\n",
      "100%|████████████████████| 595/595 [02:02<00:00,  4.86it/s, test_loss=1.336e-01]\n",
      "Test Epoch: 2\tLoss: 0.133605\tTime: 122.331s\n",
      "100%|█████████████████| 2779/2779 [07:18<00:00,  6.33it/s, train_loss=1.325e-01]\n",
      "Train Epoch: 3\tLoss: 0.132533\tTime: 438.943s\n",
      "100%|████████████████████| 595/595 [02:02<00:00,  4.85it/s, test_loss=1.310e-01]\n",
      "Test Epoch: 3\tLoss: 0.130950\tTime: 122.644s\n",
      "100%|█████████████████| 2779/2779 [07:21<00:00,  6.30it/s, train_loss=1.293e-01]\n",
      "Train Epoch: 4\tLoss: 0.129295\tTime: 441.425s\n",
      "100%|████████████████████| 595/595 [02:02<00:00,  4.86it/s, test_loss=1.282e-01]\n",
      "Test Epoch: 4\tLoss: 0.128228\tTime: 122.496s\n",
      "100%|█████████████████| 2779/2779 [07:20<00:00,  6.31it/s, train_loss=1.261e-01]\n",
      "Train Epoch: 5\tLoss: 0.126132\tTime: 440.415s\n",
      "100%|████████████████████| 595/595 [02:01<00:00,  4.91it/s, test_loss=1.258e-01]\n",
      "Test Epoch: 5\tLoss: 0.125828\tTime: 121.060s\n",
      "100%|█████████████████| 2779/2779 [07:18<00:00,  6.34it/s, train_loss=1.232e-01]\n",
      "Train Epoch: 6\tLoss: 0.123246\tTime: 438.582s\n",
      "100%|████████████████████| 595/595 [01:59<00:00,  4.98it/s, test_loss=1.237e-01]\n",
      "Test Epoch: 6\tLoss: 0.123662\tTime: 119.458s\n",
      "100%|█████████████████| 2779/2779 [07:18<00:00,  6.34it/s, train_loss=1.208e-01]\n",
      "Train Epoch: 7\tLoss: 0.120836\tTime: 438.609s\n",
      "100%|████████████████████| 595/595 [02:00<00:00,  4.94it/s, test_loss=1.219e-01]\n",
      "Test Epoch: 7\tLoss: 0.121912\tTime: 120.375s\n",
      "100%|█████████████████| 2779/2779 [07:19<00:00,  6.32it/s, train_loss=1.189e-01]\n",
      "Train Epoch: 8\tLoss: 0.118881\tTime: 439.639s\n",
      "100%|████████████████████| 595/595 [02:00<00:00,  4.93it/s, test_loss=1.207e-01]\n",
      "Test Epoch: 8\tLoss: 0.120670\tTime: 120.787s\n",
      "100%|█████████████████| 2779/2779 [07:18<00:00,  6.34it/s, train_loss=1.174e-01]\n",
      "Train Epoch: 9\tLoss: 0.117362\tTime: 438.409s\n",
      "100%|████████████████████| 595/595 [02:00<00:00,  4.95it/s, test_loss=1.198e-01]\n",
      "Test Epoch: 9\tLoss: 0.119779\tTime: 120.178s\n",
      "100%|█████████████████| 2779/2779 [07:15<00:00,  6.38it/s, train_loss=1.162e-01]\n",
      "Train Epoch: 10\tLoss: 0.116157\tTime: 435.420s\n",
      "100%|████████████████████| 595/595 [01:58<00:00,  5.04it/s, test_loss=1.190e-01]\n",
      "Test Epoch: 10\tLoss: 0.119017\tTime: 118.007s\n"
     ]
    }
   ],
   "source": [
    "DatasetName = \"ArchiveII\"\n",
    "Command = f\"\"\"\n",
    "mxfold2 train \\\n",
    "  {DatasetDirectory}/{DatasetName}-train-bpseq.lst \\\n",
    "  --test-input {DatasetDirectory}/{DatasetName}-valid-bpseq.lst \\\n",
    "  --param {ModelDirectory}/{DatasetName}-model.pth \\\n",
    "  --save-config {ModelDirectory}/{DatasetName}-model.conf \\\n",
    "  --gpu {GpuCount} \\\n",
    "  --epoch {EpochCount}\n",
    "\"\"\"\n",
    "!{Command}"
   ]
  },
  {
   "cell_type": "code",
   "execution_count": 7,
   "metadata": {
    "ExecuteTime": {
     "end_time": "2024-05-14T13:00:30.159651554Z",
     "start_time": "2024-05-14T13:00:28.957596795Z"
    }
   },
   "outputs": [],
   "source": [
    "DatasetName = \"ArchiveII\"\n",
    "Command = f\"\"\"\n",
    "mxfold2 predict \\\n",
    "  @./{ModelDirectory}/{DatasetName}-model.conf \\\n",
    "  {DatasetDirectory}/PDB-test-bpseq.lst \\\n",
    "  --bpseq {ResultsDirectory}/{DatasetName} \\\n",
    "  --result {ResultsDirectory}/{DatasetName}-results.csv \\\n",
    "  --gpu {GpuCount}\n",
    "\"\"\"\n",
    "!{Command}"
   ]
  },
  {
   "cell_type": "markdown",
   "metadata": {},
   "source": [
    "## PDB Dataset"
   ]
  },
  {
   "cell_type": "code",
   "execution_count": 8,
   "metadata": {
    "ExecuteTime": {
     "start_time": "2024-05-14T13:00:30.159920206Z"
    },
    "is_executing": true
   },
   "outputs": [
    {
     "name": "stdout",
     "output_type": "stream",
     "text": [
      "100%|███████████████████| 413/413 [08:44<00:00,  1.27s/it, train_loss=1.378e-01]\n",
      "Train Epoch: 1\tLoss: 0.137833\tTime: 524.242s\n",
      "100%|██████████████████████| 88/88 [03:27<00:00,  2.36s/it, test_loss=1.439e-01]\n",
      "Test Epoch: 1\tLoss: 0.143882\tTime: 207.284s\n",
      "100%|███████████████████| 413/413 [08:51<00:00,  1.29s/it, train_loss=1.355e-01]\n",
      "Train Epoch: 2\tLoss: 0.135519\tTime: 531.248s\n",
      "100%|██████████████████████| 88/88 [03:14<00:00,  2.21s/it, test_loss=1.414e-01]\n",
      "Test Epoch: 2\tLoss: 0.141431\tTime: 194.262s\n",
      "100%|███████████████████| 413/413 [08:58<00:00,  1.30s/it, train_loss=1.333e-01]\n",
      "Train Epoch: 3\tLoss: 0.133310\tTime: 538.607s\n",
      "100%|██████████████████████| 88/88 [03:29<00:00,  2.38s/it, test_loss=1.388e-01]\n",
      "Test Epoch: 3\tLoss: 0.138836\tTime: 209.353s\n",
      "100%|███████████████████| 413/413 [08:52<00:00,  1.29s/it, train_loss=1.310e-01]\n",
      "Train Epoch: 4\tLoss: 0.131011\tTime: 532.802s\n",
      "100%|██████████████████████| 88/88 [03:25<00:00,  2.33s/it, test_loss=1.362e-01]\n",
      "Test Epoch: 4\tLoss: 0.136165\tTime: 205.092s\n",
      "100%|███████████████████| 413/413 [08:55<00:00,  1.30s/it, train_loss=1.287e-01]\n",
      "Train Epoch: 5\tLoss: 0.128732\tTime: 535.791s\n",
      "100%|██████████████████████| 88/88 [03:28<00:00,  2.36s/it, test_loss=1.338e-01]\n",
      "Test Epoch: 5\tLoss: 0.133833\tTime: 208.049s\n",
      "100%|███████████████████| 413/413 [08:59<00:00,  1.31s/it, train_loss=1.265e-01]\n",
      "Train Epoch: 6\tLoss: 0.126524\tTime: 539.018s\n",
      "100%|██████████████████████| 88/88 [03:23<00:00,  2.31s/it, test_loss=1.314e-01]\n",
      "Test Epoch: 6\tLoss: 0.131447\tTime: 203.361s\n",
      "100%|███████████████████| 413/413 [08:54<00:00,  1.29s/it, train_loss=1.242e-01]\n",
      "Train Epoch: 7\tLoss: 0.124181\tTime: 534.623s\n",
      "100%|██████████████████████| 88/88 [03:27<00:00,  2.36s/it, test_loss=1.290e-01]\n",
      "Test Epoch: 7\tLoss: 0.129015\tTime: 207.830s\n",
      "100%|███████████████████| 413/413 [08:56<00:00,  1.30s/it, train_loss=1.219e-01]\n",
      "Train Epoch: 8\tLoss: 0.121899\tTime: 536.963s\n",
      "100%|██████████████████████| 88/88 [03:26<00:00,  2.35s/it, test_loss=1.267e-01]\n",
      "Test Epoch: 8\tLoss: 0.126661\tTime: 206.419s\n",
      "100%|███████████████████| 413/413 [08:55<00:00,  1.30s/it, train_loss=1.197e-01]\n",
      "Train Epoch: 9\tLoss: 0.119670\tTime: 535.034s\n",
      "100%|██████████████████████| 88/88 [03:26<00:00,  2.34s/it, test_loss=1.242e-01]\n",
      "Test Epoch: 9\tLoss: 0.124205\tTime: 206.340s\n",
      "100%|███████████████████| 413/413 [08:58<00:00,  1.30s/it, train_loss=1.173e-01]\n",
      "Train Epoch: 10\tLoss: 0.117323\tTime: 538.566s\n",
      "100%|██████████████████████| 88/88 [03:26<00:00,  2.34s/it, test_loss=1.219e-01]\n",
      "Test Epoch: 10\tLoss: 0.121915\tTime: 206.140s\n"
     ]
    }
   ],
   "source": [
    "DatasetName = \"PDB\"\n",
    "Command = f\"\"\"\n",
    "mxfold2 train \\\n",
    "  {DatasetDirectory}/{DatasetName}-train-bpseq.lst \\\n",
    "  --test-input {DatasetDirectory}/{DatasetName}-valid-bpseq.lst \\\n",
    "  --param {ModelDirectory}/{DatasetName}-model.pth \\\n",
    "  --save-config {ModelDirectory}/{DatasetName}-model.conf \\\n",
    "  --gpu {GpuCount} \\\n",
    "  --epoch {EpochCount}\n",
    "\"\"\"\n",
    "!{Command}"
   ]
  },
  {
   "cell_type": "code",
   "execution_count": 9,
   "metadata": {
    "is_executing": true
   },
   "outputs": [],
   "source": [
    "DatasetName = \"PDB\"\n",
    "Command = f\"\"\"\n",
    "mxfold2 predict \\\n",
    "  @./{ModelDirectory}/{DatasetName}-model.conf \\\n",
    "  {DatasetDirectory}/{DatasetName}-test-bpseq.lst \\\n",
    "  --bpseq {ResultsDirectory}/{DatasetName} \\\n",
    "  --result {ResultsDirectory}/{DatasetName}-results.csv \\\n",
    "  --gpu {GpuCount}\n",
    "\"\"\"\n",
    "!{Command}"
   ]
  },
  {
   "cell_type": "markdown",
   "metadata": {},
   "source": [
    "## Transfer Learning (ArchiveII -> PDB)"
   ]
  },
  {
   "cell_type": "code",
   "execution_count": 10,
   "metadata": {
    "is_executing": true
   },
   "outputs": [
    {
     "name": "stdout",
     "output_type": "stream",
     "text": [
      "100%|███████████████████| 413/413 [08:35<00:00,  1.25s/it, train_loss=1.147e-01]\n",
      "Train Epoch: 1\tLoss: 0.114687\tTime: 515.797s\n",
      "100%|██████████████████████| 88/88 [03:16<00:00,  2.24s/it, test_loss=1.078e-01]\n",
      "Test Epoch: 1\tLoss: 0.107844\tTime: 196.803s\n",
      "100%|███████████████████| 413/413 [08:40<00:00,  1.26s/it, train_loss=1.099e-01]\n",
      "Train Epoch: 2\tLoss: 0.109882\tTime: 520.655s\n",
      "100%|██████████████████████| 88/88 [03:21<00:00,  2.29s/it, test_loss=1.048e-01]\n",
      "Test Epoch: 2\tLoss: 0.104850\tTime: 201.515s\n",
      "100%|███████████████████| 413/413 [08:49<00:00,  1.28s/it, train_loss=1.065e-01]\n",
      "Train Epoch: 3\tLoss: 0.106550\tTime: 529.021s\n",
      "100%|██████████████████████| 88/88 [03:22<00:00,  2.30s/it, test_loss=1.032e-01]\n",
      "Test Epoch: 3\tLoss: 0.103244\tTime: 202.754s\n",
      "100%|███████████████████| 413/413 [08:49<00:00,  1.28s/it, train_loss=1.039e-01]\n",
      "Train Epoch: 4\tLoss: 0.103909\tTime: 529.830s\n",
      "100%|██████████████████████| 88/88 [03:21<00:00,  2.29s/it, test_loss=1.016e-01]\n",
      "Test Epoch: 4\tLoss: 0.101631\tTime: 201.757s\n",
      "100%|███████████████████| 413/413 [08:47<00:00,  1.28s/it, train_loss=1.017e-01]\n",
      "Train Epoch: 5\tLoss: 0.101733\tTime: 527.896s\n",
      "100%|██████████████████████| 88/88 [03:23<00:00,  2.32s/it, test_loss=1.005e-01]\n",
      "Test Epoch: 5\tLoss: 0.100499\tTime: 203.796s\n",
      "100%|███████████████████| 413/413 [08:54<00:00,  1.29s/it, train_loss=9.999e-02]\n",
      "Train Epoch: 6\tLoss: 0.099993\tTime: 534.221s\n",
      "100%|██████████████████████| 88/88 [03:22<00:00,  2.31s/it, test_loss=9.961e-02]\n",
      "Test Epoch: 6\tLoss: 0.099609\tTime: 202.849s\n",
      "100%|███████████████████| 413/413 [08:52<00:00,  1.29s/it, train_loss=9.837e-02]\n",
      "Train Epoch: 7\tLoss: 0.098372\tTime: 532.481s\n",
      "100%|██████████████████████| 88/88 [03:24<00:00,  2.33s/it, test_loss=9.914e-02]\n",
      "Test Epoch: 7\tLoss: 0.099144\tTime: 204.709s\n",
      "100%|███████████████████| 413/413 [08:49<00:00,  1.28s/it, train_loss=9.710e-02]\n",
      "Train Epoch: 8\tLoss: 0.097099\tTime: 529.296s\n",
      "100%|██████████████████████| 88/88 [03:24<00:00,  2.32s/it, test_loss=9.863e-02]\n",
      "Test Epoch: 8\tLoss: 0.098631\tTime: 204.400s\n",
      "100%|███████████████████| 413/413 [08:51<00:00,  1.29s/it, train_loss=9.591e-02]\n",
      "Train Epoch: 9\tLoss: 0.095912\tTime: 531.259s\n",
      "100%|██████████████████████| 88/88 [03:25<00:00,  2.33s/it, test_loss=9.818e-02]\n",
      "Test Epoch: 9\tLoss: 0.098180\tTime: 205.110s\n",
      "100%|███████████████████| 413/413 [08:52<00:00,  1.29s/it, train_loss=9.485e-02]\n",
      "Train Epoch: 10\tLoss: 0.094850\tTime: 532.514s\n",
      "100%|██████████████████████| 88/88 [03:24<00:00,  2.33s/it, test_loss=9.784e-02]\n",
      "Test Epoch: 10\tLoss: 0.097842\tTime: 204.660s\n"
     ]
    }
   ],
   "source": [
    "DatasetName = \"PDB\"\n",
    "Command = f\"\"\"\n",
    "mxfold2 train \\\n",
    "  @./{ModelDirectory}/ArchiveII-model.conf \\\n",
    "  {DatasetDirectory}/{DatasetName}-train-bpseq.lst \\\n",
    "  --test-input {DatasetDirectory}/{DatasetName}-valid-bpseq.lst \\\n",
    "  --init-param {ModelDirectory}/ArchiveII-model.pth \\\n",
    "  --param {ModelDirectory}/TransferLearning-model.pth \\\n",
    "  --save-config {ModelDirectory}/TransferLearning-model.conf \\\n",
    "  --gpu {GpuCount} \\\n",
    "  --epoch {EpochCount}\n",
    "\"\"\"\n",
    "!{Command}"
   ]
  },
  {
   "cell_type": "code",
   "execution_count": 11,
   "metadata": {
    "is_executing": true
   },
   "outputs": [],
   "source": [
    "DatasetName = \"PDB\"\n",
    "Command = f\"\"\"\n",
    "mxfold2 predict \\\n",
    "  @./{ModelDirectory}/TransferLearning-model.conf \\\n",
    "  {DatasetDirectory}/{DatasetName}-test-bpseq.lst \\\n",
    "  --bpseq {ResultsDirectory}/TransferLearning \\\n",
    "  --result {ResultsDirectory}/TransferLearning-results.csv \\\n",
    "  --gpu {GpuCount}\n",
    "\"\"\"\n",
    "!{Command}"
   ]
  },
  {
   "cell_type": "markdown",
   "metadata": {},
   "source": [
    "## Results"
   ]
  },
  {
   "cell_type": "code",
   "execution_count": 3,
   "metadata": {
    "is_executing": true
   },
   "outputs": [
    {
     "data": {
      "text/html": [
       "<div>\n",
       "<style scoped>\n",
       "    .dataframe tbody tr th:only-of-type {\n",
       "        vertical-align: middle;\n",
       "    }\n",
       "\n",
       "    .dataframe tbody tr th {\n",
       "        vertical-align: top;\n",
       "    }\n",
       "\n",
       "    .dataframe thead th {\n",
       "        text-align: right;\n",
       "    }\n",
       "</style>\n",
       "<table border=\"1\" class=\"dataframe\">\n",
       "  <thead>\n",
       "    <tr style=\"text-align: right;\">\n",
       "      <th></th>\n",
       "      <th>filename</th>\n",
       "      <th>sequence_length</th>\n",
       "      <th>elapsed_time</th>\n",
       "      <th>sc</th>\n",
       "      <th>tp</th>\n",
       "      <th>tn</th>\n",
       "      <th>fp</th>\n",
       "      <th>fn</th>\n",
       "      <th>sen</th>\n",
       "      <th>ppv</th>\n",
       "      <th>fval</th>\n",
       "      <th>mcc</th>\n",
       "    </tr>\n",
       "  </thead>\n",
       "  <tbody>\n",
       "    <tr>\n",
       "      <th>0</th>\n",
       "      <td>resources/datasets/PDB/6ERI_1_AB.bpseq</td>\n",
       "      <td>106</td>\n",
       "      <td>0.005626</td>\n",
       "      <td>20.225124</td>\n",
       "      <td>23</td>\n",
       "      <td>5539</td>\n",
       "      <td>2</td>\n",
       "      <td>1</td>\n",
       "      <td>0.958333</td>\n",
       "      <td>0.920000</td>\n",
       "      <td>0.938776</td>\n",
       "      <td>0.938702</td>\n",
       "    </tr>\n",
       "    <tr>\n",
       "      <th>1</th>\n",
       "      <td>resources/datasets/PDB/1F1T_1_A.bpseq</td>\n",
       "      <td>33</td>\n",
       "      <td>0.000312</td>\n",
       "      <td>5.846609</td>\n",
       "      <td>10</td>\n",
       "      <td>518</td>\n",
       "      <td>0</td>\n",
       "      <td>0</td>\n",
       "      <td>1.000000</td>\n",
       "      <td>1.000000</td>\n",
       "      <td>1.000000</td>\n",
       "      <td>1.000000</td>\n",
       "    </tr>\n",
       "    <tr>\n",
       "      <th>2</th>\n",
       "      <td>resources/datasets/PDB/5WT1_1_C.bpseq</td>\n",
       "      <td>67</td>\n",
       "      <td>0.001731</td>\n",
       "      <td>22.036249</td>\n",
       "      <td>18</td>\n",
       "      <td>2191</td>\n",
       "      <td>0</td>\n",
       "      <td>2</td>\n",
       "      <td>0.900000</td>\n",
       "      <td>1.000000</td>\n",
       "      <td>0.947368</td>\n",
       "      <td>0.948251</td>\n",
       "    </tr>\n",
       "    <tr>\n",
       "      <th>3</th>\n",
       "      <td>resources/datasets/PDB/7DCO_1_B.bpseq</td>\n",
       "      <td>179</td>\n",
       "      <td>0.023004</td>\n",
       "      <td>36.309677</td>\n",
       "      <td>29</td>\n",
       "      <td>15857</td>\n",
       "      <td>27</td>\n",
       "      <td>18</td>\n",
       "      <td>0.617021</td>\n",
       "      <td>0.517857</td>\n",
       "      <td>0.563107</td>\n",
       "      <td>0.563871</td>\n",
       "    </tr>\n",
       "    <tr>\n",
       "      <th>4</th>\n",
       "      <td>resources/datasets/PDB/7CPU_1_S6.bpseq</td>\n",
       "      <td>75</td>\n",
       "      <td>0.002281</td>\n",
       "      <td>21.463169</td>\n",
       "      <td>16</td>\n",
       "      <td>2753</td>\n",
       "      <td>5</td>\n",
       "      <td>1</td>\n",
       "      <td>0.941176</td>\n",
       "      <td>0.761905</td>\n",
       "      <td>0.842105</td>\n",
       "      <td>0.845792</td>\n",
       "    </tr>\n",
       "  </tbody>\n",
       "</table>\n",
       "</div>"
      ],
      "text/plain": [
       "                                 filename  sequence_length  elapsed_time  \\\n",
       "0  resources/datasets/PDB/6ERI_1_AB.bpseq              106      0.005626   \n",
       "1   resources/datasets/PDB/1F1T_1_A.bpseq               33      0.000312   \n",
       "2   resources/datasets/PDB/5WT1_1_C.bpseq               67      0.001731   \n",
       "3   resources/datasets/PDB/7DCO_1_B.bpseq              179      0.023004   \n",
       "4  resources/datasets/PDB/7CPU_1_S6.bpseq               75      0.002281   \n",
       "\n",
       "          sc  tp     tn  fp  fn       sen       ppv      fval       mcc  \n",
       "0  20.225124  23   5539   2   1  0.958333  0.920000  0.938776  0.938702  \n",
       "1   5.846609  10    518   0   0  1.000000  1.000000  1.000000  1.000000  \n",
       "2  22.036249  18   2191   0   2  0.900000  1.000000  0.947368  0.948251  \n",
       "3  36.309677  29  15857  27  18  0.617021  0.517857  0.563107  0.563871  \n",
       "4  21.463169  16   2753   5   1  0.941176  0.761905  0.842105  0.845792  "
      ]
     },
     "execution_count": 3,
     "metadata": {},
     "output_type": "execute_result"
    }
   ],
   "source": [
    "columns: list[str] = [\n",
    "    \"filename\",\n",
    "    \"sequence_length\",\n",
    "    \"elapsed_time\",\n",
    "    \"sc\",\n",
    "    \"tp\",\n",
    "    \"tn\",\n",
    "    \"fp\",\n",
    "    \"fn\",\n",
    "    \"sen\",\n",
    "    \"ppv\",\n",
    "    \"fval\",\n",
    "    \"mcc\",\n",
    "]\n",
    "\n",
    "results = pd.read_csv(ResultsDirectory / \"TransferLearning-results.csv\", header=None, names=columns)\n",
    "results.head()"
   ]
  },
  {
   "cell_type": "code",
   "execution_count": 13,
   "metadata": {
    "is_executing": true
   },
   "outputs": [],
   "source": [
    "def calculate_metrics(results: pd.DataFrame) -> pd.DataFrame:\n",
    "    \"\"\"Calculate the metrics for the given results: INF, PPV, TPR, TNR.\"\"\"\n",
    "    tp_sum, tn_sum, fp_sum, fn_sum = results[[\"tp\", \"tn\", \"fp\", \"fn\"]].sum()\n",
    "    ppv = tp_sum / (tp_sum + fp_sum)\n",
    "    tpr = tp_sum / (tp_sum + fn_sum)\n",
    "    inf = (ppv * tpr) ** 0.5\n",
    "    tnr = tn_sum / (tn_sum + fp_sum)\n",
    "    return inf, ppv, tpr, tnr\n",
    "\n",
    "\n",
    "def plot_metrics(datasets: tuple[str]) -> None:\n",
    "    \"\"\"Plot the metrics for the given results.\"\"\"\n",
    "    metrics = defaultdict(dict)\n",
    "    for dataset in datasets:\n",
    "        df = pd.read_csv(ResultsDirectory / f\"{dataset}-results.csv\", header=None, names=columns)\n",
    "        inf, ppv, tpr, tnr = calculate_metrics(df)\n",
    "        metrics[\"inf\"].update({dataset: inf})\n",
    "        metrics[\"ppv\"].update({dataset: ppv})\n",
    "        metrics[\"tpr\"].update({dataset: tpr})\n",
    "        metrics[\"tnr\"].update({dataset: tnr})\n",
    "\n",
    "    colors = sns.color_palette(\"magma\", 3)\n",
    "    fig, axs = plt.subplots(2, 2, figsize=(12, 8), tight_layout=True)\n",
    "    ax1, ax2, ax3, ax4 = axs.flatten()\n",
    "\n",
    "    ax1.set_title(\"INF\")\n",
    "    ax1.bar(metrics[\"inf\"].keys(), metrics[\"inf\"].values(), color=colors, label=\"INF\")\n",
    "    ax1.grid(axis=\"y\", linestyle=\"--\", alpha=0.25)\n",
    "    ax1.set_xlabel(\"dataset\")\n",
    "    ax1.set_ylabel(\"score\")\n",
    "\n",
    "    ax2.set_title(\"PPV\")\n",
    "    ax2.bar(metrics[\"ppv\"].keys(), metrics[\"ppv\"].values(), color=colors, label=\"PPV\")\n",
    "    ax2.grid(axis=\"y\", linestyle=\"--\", alpha=0.25)\n",
    "    ax2.set_xlabel(\"dataset\")\n",
    "    ax2.set_ylabel(\"score\")\n",
    "\n",
    "    ax3.set_title(\"TPR\")\n",
    "    ax3.bar(metrics[\"tpr\"].keys(), metrics[\"tpr\"].values(), color=colors, label=\"TPR\")\n",
    "    ax3.grid(axis=\"y\", linestyle=\"--\", alpha=0.25)\n",
    "    ax3.set_xlabel(\"dataset\")\n",
    "    ax3.set_ylabel(\"score\")\n",
    "\n",
    "    ax4.set_title(\"TNR\")\n",
    "    ax4.bar(metrics[\"tnr\"].keys(), metrics[\"tnr\"].values(), color=colors, label=\"TNR\")\n",
    "    ax4.grid(axis=\"y\", linestyle=\"--\", alpha=0.25)\n",
    "    ax4.set_xlabel(\"dataset\")\n",
    "    ax4.set_ylabel(\"score\")\n",
    "\n",
    "    fig.savefig(FiguresDirectory / \"results.png\")"
   ]
  },
  {
   "cell_type": "code",
   "execution_count": 14,
   "metadata": {
    "is_executing": true
   },
   "outputs": [
    {
     "data": {
      "image/png": "[encoded data removed]",
      "text/plain": [
       "<Figure size 1200x800 with 4 Axes>"
      ]
     },
     "metadata": {},
     "output_type": "display_data"
    }
   ],
   "source": [
    "datasets = (\"ArchiveII\", \"PDB\", \"TransferLearning\")\n",
    "\n",
    "plot_metrics(datasets)"
   ]
  }
 ],
 "metadata": {
  "kernelspec": {
   "display_name": ".venv",
   "language": "python",
   "name": "python3"
  },
  "language_info": {
   "codemirror_mode": {
    "name": "ipython",
    "version": 3
   },
   "file_extension": ".py",
   "mimetype": "text/x-python",
   "name": "python",
   "nbconvert_exporter": "python",
   "pygments_lexer": "ipython3",
   "version": "3.10.13"
  }
 },
 "nbformat": 4,
 "nbformat_minor": 2
}
