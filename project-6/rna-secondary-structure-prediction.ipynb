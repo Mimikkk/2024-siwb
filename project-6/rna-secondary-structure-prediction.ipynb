{
 "cells": [
  {
   "cell_type": "markdown",
   "metadata": {},
   "source": [
    "# Projekt 6: Przewidywanie struktury drugorzędowej RNA"
   ]
  },
  {
   "cell_type": "code",
   "execution_count": 1,
   "metadata": {},
   "outputs": [],
   "source": [
    "# %pip install tensorflow pandas tqdm argparse six"
   ]
  },
  {
   "cell_type": "code",
   "execution_count": 2,
   "metadata": {},
   "outputs": [],
   "source": [
    "import os\n",
    "from pathlib import Path\n",
    "\n",
    "os.chdir(\"./SPOT-RNA\")\n",
    "DATASET_DIR = Path(\"../resources/datasets\")\n",
    "\n",
    "cores = max(1, os.cpu_count() - 1)"
   ]
  },
  {
   "cell_type": "code",
   "execution_count": 3,
   "metadata": {},
   "outputs": [
    {
     "name": "stdout",
     "output_type": "stream",
     "text": [
      ">> Opening FASTA file...\n",
      ">> Converting FASTA file from multiline to single line and writing to file.\n",
      ">> Done!\n",
      "\n",
      "Preparing tfr records file for SPOT-RNA:\n",
      "100%|█████████████████████████████████████████████| 1/1 [00:00<00:00, 31.69it/s]\n",
      "\n",
      "Predicting for SPOT-RNA model 0\n",
      "100%|█████████████████████████████████████████████| 1/1 [00:00<00:00,  2.38it/s]\n",
      "\n",
      "Predicting for SPOT-RNA model 1\n",
      "100%|█████████████████████████████████████████████| 1/1 [00:01<00:00,  1.04s/it]\n",
      "\n",
      "Predicting for SPOT-RNA model 2\n",
      "100%|█████████████████████████████████████████████| 1/1 [00:01<00:00,  1.05s/it]\n",
      "\n",
      "Predicting for SPOT-RNA model 3\n",
      "100%|█████████████████████████████████████████████| 1/1 [00:01<00:00,  1.17s/it]\n",
      "\n",
      "Predicting for SPOT-RNA model 4\n",
      "100%|█████████████████████████████████████████████| 1/1 [00:01<00:00,  1.18s/it]\n",
      "\n",
      "Post Processing and Saving Output\n",
      "\n",
      "Finished!\n",
      "\n",
      "Processsing Time 11.704977035522461 seconds\n"
     ]
    }
   ],
   "source": [
    "!python3 SPOT-RNA.py  --inputs {DATASET_DIR}/ArchiveII/5s_Acetobacter-aceti-2.fa  --outputs 'outputs/'  --cpu {cores}"
   ]
  }
 ],
 "metadata": {
  "kernelspec": {
   "display_name": ".venv",
   "language": "python",
   "name": "python3"
  },
  "language_info": {
   "codemirror_mode": {
    "name": "ipython",
    "version": 3
   },
   "file_extension": ".py",
   "mimetype": "text/x-python",
   "name": "python",
   "nbconvert_exporter": "python",
   "pygments_lexer": "ipython3",
   "version": "3.8.19"
  }
 },
 "nbformat": 4,
 "nbformat_minor": 2
}
