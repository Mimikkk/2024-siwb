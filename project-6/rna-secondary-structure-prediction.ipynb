{
 "cells": [
  {
   "cell_type": "markdown",
   "metadata": {},
   "source": [
    "# Projekt 6: Przewidywanie struktury drugorzędowej RNA"
   ]
  },
  {
   "cell_type": "code",
   "execution_count": 1,
   "metadata": {},
   "outputs": [],
   "source": [
    "# %pip install matplotlib pandas seaborn"
   ]
  },
  {
   "cell_type": "code",
   "execution_count": 21,
   "metadata": {},
   "outputs": [],
   "source": [
    "import os\n",
    "import random\n",
    "from collections import defaultdict\n",
    "from pathlib import Path\n",
    "\n",
    "import matplotlib.pyplot as plt\n",
    "import pandas as pd\n",
    "import seaborn as sns\n",
    "\n",
    "\n",
    "DATASET_DIR = Path(\"./resources/datasets\")\n",
    "MODELS_DIR = Path(\"./resources/models\")\n",
    "RESULTS_DIR = Path(\"./resources/results\")\n",
    "FIGURES_DIR = Path(\"./resources/figures\")"
   ]
  },
  {
   "cell_type": "code",
   "execution_count": 3,
   "metadata": {},
   "outputs": [],
   "source": [
    "def split_datasets(\n",
    "    path: Path, train_ratio: float = 0.7, valid_ratio: float = 0.15, test_ratio: float = 0.15\n",
    ") -> None:\n",
    "    random.seed(42)\n",
    "    files = [f\"{path}/{f}\" for f in os.listdir(path) if f.endswith(\".bpseq\")]\n",
    "    random.shuffle(files)\n",
    "\n",
    "    total_files = len(files)\n",
    "    train_count = int(total_files * train_ratio)\n",
    "    valid_count = int(total_files * valid_ratio)\n",
    "\n",
    "    train_files = files[:train_count]\n",
    "    valid_files = files[train_count : train_count + valid_count]\n",
    "    test_files = files[train_count + valid_count :]\n",
    "\n",
    "    with open(f\"{path}-train-bpseq.lst\", \"w\") as f:\n",
    "        f.write(\"\\n\".join(train_files))\n",
    "    with open(f\"{path}-valid-bpseq.lst\", \"w\") as f:\n",
    "        f.write(\"\\n\".join(valid_files))\n",
    "    with open(f\"{path}-test-bpseq.lst\", \"w\") as f:\n",
    "        f.write(\"\\n\".join(test_files))\n",
    "\n",
    "    with open(f\"{path}-train-fa.lst\", \"w\") as f:\n",
    "        f.write(\"\\n\".join(train_files).replace(\".bpseq\", \".fa\"))\n",
    "    with open(f\"{path}-valid-fa.lst\", \"w\") as f:\n",
    "        f.write(\"\\n\".join(valid_files).replace(\".bpseq\", \".fa\"))\n",
    "    with open(f\"{path}-test-fa.lst\", \"w\") as f:\n",
    "        f.write(\"\\n\".join(test_files).replace(\".bpseq\", \".fa\"))\n",
    "\n",
    "\n",
    "def datasets_sanity_check() -> None:\n",
    "    lst_files = [file for file in os.listdir(DATASET_DIR) if file.endswith(\".lst\")]\n",
    "\n",
    "    for file in lst_files:\n",
    "        file_path = DATASET_DIR / file\n",
    "        with open(file_path, \"r\") as f:\n",
    "            lines = f.readlines()\n",
    "        num_lines = len(lines)\n",
    "\n",
    "        total_files = len(os.listdir(DATASET_DIR / file.split(\"-\")[0])) // 2\n",
    "        print(f\"{file:<25} has {round(num_lines/total_files * 100)}% files ({num_lines})\")"
   ]
  },
  {
   "cell_type": "code",
   "execution_count": 4,
   "metadata": {},
   "outputs": [
    {
     "name": "stdout",
     "output_type": "stream",
     "text": [
      "ArchiveII-train-fa.lst    has 70% files (2779)\n",
      "PDB-train-fa.lst          has 70% files (413)\n",
      "ArchiveII-test-bpseq.lst  has 15% files (596)\n",
      "ArchiveII-test-fa.lst     has 15% files (596)\n",
      "ArchiveII-valid-fa.lst    has 15% files (595)\n",
      "PDB-valid-fa.lst          has 15% files (88)\n",
      "PDB-valid-bpseq.lst       has 15% files (88)\n",
      "PDB-test-bpseq.lst        has 15% files (89)\n",
      "ArchiveII-train-bpseq.lst has 70% files (2779)\n",
      "PDB-test-fa.lst           has 15% files (89)\n",
      "ArchiveII-valid-bpseq.lst has 15% files (595)\n",
      "PDB-train-bpseq.lst       has 70% files (413)\n"
     ]
    }
   ],
   "source": [
    "split_datasets(DATASET_DIR / \"ArchiveII\")\n",
    "split_datasets(DATASET_DIR / \"PDB\")\n",
    "datasets_sanity_check()"
   ]
  },
  {
   "cell_type": "markdown",
   "metadata": {},
   "source": [
    "## ArchiveII Dataset"
   ]
  },
  {
   "cell_type": "code",
   "execution_count": 24,
   "metadata": {},
   "outputs": [],
   "source": [
    "GPU: int = -1\n",
    "NUMBER_OF_EPOCHS: int = 1"
   ]
  },
  {
   "cell_type": "code",
   "execution_count": 6,
   "metadata": {},
   "outputs": [
    {
     "name": "stdout",
     "output_type": "stream",
     "text": [
      "100%|█████████████████| 2779/2779 [07:19<00:00,  6.33it/s, train_loss=1.391e-01]\n",
      "Train Epoch: 1\tLoss: 0.139070\tTime: 439.281s\n"
     ]
    }
   ],
   "source": [
    "DATASET_NAME = \"ArchiveII\"\n",
    "!mxfold2 train {DATASET_DIR}/{DATASET_NAME}-train-bpseq.lst \\\n",
    "    --param {MODELS_DIR}/{DATASET_NAME}-model.pth --save-config {MODELS_DIR}/{DATASET_NAME}-model.conf \\\n",
    "    --gpu {GPU} --epoch {NUMBER_OF_EPOCHS}"
   ]
  },
  {
   "cell_type": "code",
   "execution_count": 7,
   "metadata": {},
   "outputs": [],
   "source": [
    "DATASET_NAME = \"ArchiveII\"\n",
    "!mxfold2 predict @./{MODELS_DIR}/{DATASET_NAME}-model.conf {DATASET_DIR}/{DATASET_NAME}-test-bpseq.lst \\\n",
    "    --bpseq {RESULTS_DIR}/{DATASET_NAME} --result {RESULTS_DIR}/{DATASET_NAME}-results.csv \\\n",
    "    --gpu {GPU}"
   ]
  },
  {
   "cell_type": "markdown",
   "metadata": {},
   "source": [
    "## PDB Dataset"
   ]
  },
  {
   "cell_type": "code",
   "execution_count": 8,
   "metadata": {},
   "outputs": [
    {
     "name": "stdout",
     "output_type": "stream",
     "text": [
      "100%|███████████████████| 413/413 [08:49<00:00,  1.28s/it, train_loss=1.378e-01]\n",
      "Train Epoch: 1\tLoss: 0.137833\tTime: 529.292s\n"
     ]
    }
   ],
   "source": [
    "DATASET_NAME = \"PDB\"\n",
    "!mxfold2 train {DATASET_DIR}/{DATASET_NAME}-train-bpseq.lst \\\n",
    "    --param {MODELS_DIR}/{DATASET_NAME}-model.pth --save-config {MODELS_DIR}/{DATASET_NAME}-model.conf \\\n",
    "    --gpu {GPU} --epoch {NUMBER_OF_EPOCHS}"
   ]
  },
  {
   "cell_type": "code",
   "execution_count": 9,
   "metadata": {},
   "outputs": [],
   "source": [
    "DATASET_NAME = \"PDB\"\n",
    "!mxfold2 predict @./{MODELS_DIR}/{DATASET_NAME}-model.conf {DATASET_DIR}/{DATASET_NAME}-test-bpseq.lst \\\n",
    "    --bpseq {RESULTS_DIR}/{DATASET_NAME} --result {RESULTS_DIR}/{DATASET_NAME}-results.csv \\\n",
    "    --gpu {GPU}"
   ]
  },
  {
   "cell_type": "markdown",
   "metadata": {},
   "source": [
    "## Transfer Learning (ArchiveII -> PDB)"
   ]
  },
  {
   "cell_type": "code",
   "execution_count": 10,
   "metadata": {},
   "outputs": [
    {
     "name": "stdout",
     "output_type": "stream",
     "text": [
      "100%|███████████████████| 413/413 [08:55<00:00,  1.30s/it, train_loss=1.320e-01]\n",
      "Train Epoch: 1\tLoss: 0.131959\tTime: 535.421s\n"
     ]
    }
   ],
   "source": [
    "DATASET_NAME = \"PDB\"\n",
    "!mxfold2 train @./{MODELS_DIR}/ArchiveII-model.conf {DATASET_DIR}/{DATASET_NAME}-train-bpseq.lst --init-param {MODELS_DIR}/ArchiveII-model.pth \\\n",
    "    --param {MODELS_DIR}/TransferLearning-model.pth --save-config {MODELS_DIR}/TransferLearning-model.conf \\\n",
    "    --gpu {GPU} --epoch {NUMBER_OF_EPOCHS}"
   ]
  },
  {
   "cell_type": "code",
   "execution_count": 25,
   "metadata": {},
   "outputs": [],
   "source": [
    "DATASET_NAME = \"PDB\"\n",
    "!mxfold2 predict @./resources/models/TransferLearning-model.conf {DATASET_DIR}/{DATASET_NAME}-test-bpseq.lst \\\n",
    "    --bpseq {RESULTS_DIR}/TransferLearning --result {RESULTS_DIR}/TransferLearning-results.csv \\\n",
    "    --gpu {GPU}"
   ]
  },
  {
   "cell_type": "markdown",
   "metadata": {},
   "source": [
    "## Results"
   ]
  },
  {
   "cell_type": "code",
   "execution_count": 12,
   "metadata": {},
   "outputs": [
    {
     "data": {
      "text/html": [
       "<div>\n",
       "<style scoped>\n",
       "    .dataframe tbody tr th:only-of-type {\n",
       "        vertical-align: middle;\n",
       "    }\n",
       "\n",
       "    .dataframe tbody tr th {\n",
       "        vertical-align: top;\n",
       "    }\n",
       "\n",
       "    .dataframe thead th {\n",
       "        text-align: right;\n",
       "    }\n",
       "</style>\n",
       "<table border=\"1\" class=\"dataframe\">\n",
       "  <thead>\n",
       "    <tr style=\"text-align: right;\">\n",
       "      <th></th>\n",
       "      <th>filename</th>\n",
       "      <th>sequence_length</th>\n",
       "      <th>elapsed_time</th>\n",
       "      <th>sc</th>\n",
       "      <th>tp</th>\n",
       "      <th>tn</th>\n",
       "      <th>fp</th>\n",
       "      <th>fn</th>\n",
       "      <th>sen</th>\n",
       "      <th>ppv</th>\n",
       "      <th>fval</th>\n",
       "      <th>mcc</th>\n",
       "    </tr>\n",
       "  </thead>\n",
       "  <tbody>\n",
       "    <tr>\n",
       "      <th>0</th>\n",
       "      <td>resources/datasets/ArchiveII/tRNA_tdbR00000133...</td>\n",
       "      <td>74</td>\n",
       "      <td>0.002657</td>\n",
       "      <td>2.904319</td>\n",
       "      <td>12</td>\n",
       "      <td>2670</td>\n",
       "      <td>9</td>\n",
       "      <td>10</td>\n",
       "      <td>0.545455</td>\n",
       "      <td>0.571429</td>\n",
       "      <td>0.558140</td>\n",
       "      <td>0.554748</td>\n",
       "    </tr>\n",
       "    <tr>\n",
       "      <th>1</th>\n",
       "      <td>resources/datasets/ArchiveII/tRNA_tdbR00000184...</td>\n",
       "      <td>76</td>\n",
       "      <td>0.001983</td>\n",
       "      <td>1.462533</td>\n",
       "      <td>6</td>\n",
       "      <td>2822</td>\n",
       "      <td>8</td>\n",
       "      <td>14</td>\n",
       "      <td>0.300000</td>\n",
       "      <td>0.428571</td>\n",
       "      <td>0.352941</td>\n",
       "      <td>0.354814</td>\n",
       "    </tr>\n",
       "    <tr>\n",
       "      <th>2</th>\n",
       "      <td>resources/datasets/ArchiveII/RNaseP_C.trachoma...</td>\n",
       "      <td>408</td>\n",
       "      <td>0.163077</td>\n",
       "      <td>12.278578</td>\n",
       "      <td>79</td>\n",
       "      <td>82867</td>\n",
       "      <td>30</td>\n",
       "      <td>52</td>\n",
       "      <td>0.603053</td>\n",
       "      <td>0.724771</td>\n",
       "      <td>0.658333</td>\n",
       "      <td>0.660632</td>\n",
       "    </tr>\n",
       "    <tr>\n",
       "      <th>3</th>\n",
       "      <td>resources/datasets/ArchiveII/5s_Graphiola-phoe...</td>\n",
       "      <td>118</td>\n",
       "      <td>0.007543</td>\n",
       "      <td>4.313518</td>\n",
       "      <td>33</td>\n",
       "      <td>6866</td>\n",
       "      <td>2</td>\n",
       "      <td>2</td>\n",
       "      <td>0.942857</td>\n",
       "      <td>0.942857</td>\n",
       "      <td>0.942857</td>\n",
       "      <td>0.942566</td>\n",
       "    </tr>\n",
       "    <tr>\n",
       "      <th>4</th>\n",
       "      <td>resources/datasets/ArchiveII/srp_Clos.acet._AE...</td>\n",
       "      <td>262</td>\n",
       "      <td>0.062875</td>\n",
       "      <td>8.972773</td>\n",
       "      <td>66</td>\n",
       "      <td>34089</td>\n",
       "      <td>13</td>\n",
       "      <td>23</td>\n",
       "      <td>0.741573</td>\n",
       "      <td>0.835443</td>\n",
       "      <td>0.785714</td>\n",
       "      <td>0.786590</td>\n",
       "    </tr>\n",
       "  </tbody>\n",
       "</table>\n",
       "</div>"
      ],
      "text/plain": [
       "                                            filename  sequence_length  \\\n",
       "0  resources/datasets/ArchiveII/tRNA_tdbR00000133...               74   \n",
       "1  resources/datasets/ArchiveII/tRNA_tdbR00000184...               76   \n",
       "2  resources/datasets/ArchiveII/RNaseP_C.trachoma...              408   \n",
       "3  resources/datasets/ArchiveII/5s_Graphiola-phoe...              118   \n",
       "4  resources/datasets/ArchiveII/srp_Clos.acet._AE...              262   \n",
       "\n",
       "   elapsed_time         sc  tp     tn  fp  fn       sen       ppv      fval  \\\n",
       "0      0.002657   2.904319  12   2670   9  10  0.545455  0.571429  0.558140   \n",
       "1      0.001983   1.462533   6   2822   8  14  0.300000  0.428571  0.352941   \n",
       "2      0.163077  12.278578  79  82867  30  52  0.603053  0.724771  0.658333   \n",
       "3      0.007543   4.313518  33   6866   2   2  0.942857  0.942857  0.942857   \n",
       "4      0.062875   8.972773  66  34089  13  23  0.741573  0.835443  0.785714   \n",
       "\n",
       "        mcc  \n",
       "0  0.554748  \n",
       "1  0.354814  \n",
       "2  0.660632  \n",
       "3  0.942566  \n",
       "4  0.786590  "
      ]
     },
     "execution_count": 12,
     "metadata": {},
     "output_type": "execute_result"
    }
   ],
   "source": [
    "columns: list[str] = [\n",
    "    \"filename\",\n",
    "    \"sequence_length\",\n",
    "    \"elapsed_time\",\n",
    "    \"sc\",\n",
    "    \"tp\",\n",
    "    \"tn\",\n",
    "    \"fp\",\n",
    "    \"fn\",\n",
    "    \"sen\",\n",
    "    \"ppv\",\n",
    "    \"fval\",\n",
    "    \"mcc\",\n",
    "]\n",
    "\n",
    "results = pd.read_csv(RESULTS_DIR / \"ArchiveII-results.csv\", header=None, names=columns)\n",
    "results.head()"
   ]
  },
  {
   "cell_type": "code",
   "execution_count": 13,
   "metadata": {},
   "outputs": [],
   "source": [
    "def calculate_metrics(results: pd.DataFrame) -> pd.DataFrame:\n",
    "    \"\"\"Calculate the metrics for the given results: INF, PPV, TPR, TNR.\"\"\"\n",
    "    tp_sum, tn_sum, fp_sum, fn_sum = results[[\"tp\", \"tn\", \"fp\", \"fn\"]].sum()\n",
    "    ppv = tp_sum / (tp_sum + fp_sum)\n",
    "    tpr = tp_sum / (tp_sum + fn_sum)\n",
    "    inf = (ppv * tpr) ** 0.5\n",
    "    tnr = tn_sum / (tn_sum + fp_sum)\n",
    "    return inf, ppv, tpr, tnr\n",
    "\n",
    "\n",
    "def plot_metrics(datasets: tuple[str]) -> None:\n",
    "    \"\"\"Plot the metrics for the given results.\"\"\"\n",
    "    metrics = defaultdict(dict)\n",
    "    for dataset in datasets:\n",
    "        df = pd.read_csv(RESULTS_DIR / f\"{dataset}-results.csv\", header=None, names=columns)\n",
    "        inf, ppv, tpr, tnr = calculate_metrics(df)\n",
    "        metrics[\"inf\"].update({dataset: inf})\n",
    "        metrics[\"ppv\"].update({dataset: ppv})\n",
    "        metrics[\"tpr\"].update({dataset: tpr})\n",
    "        metrics[\"tnr\"].update({dataset: tnr})\n",
    "\n",
    "    colors = sns.color_palette(\"magma\", 3)\n",
    "    fig, axs = plt.subplots(2, 2, figsize=(12, 8), tight_layout=True)\n",
    "    ax1, ax2, ax3, ax4 = axs.flatten()\n",
    "\n",
    "    ax1.set_title(\"INF\")\n",
    "    ax1.bar(metrics[\"inf\"].keys(), metrics[\"inf\"].values(), color=colors, label=\"INF\")\n",
    "    ax1.grid(axis=\"y\", linestyle=\"--\", alpha=0.25)\n",
    "    ax1.set_xlabel(\"dataset\")\n",
    "    ax1.set_ylabel(\"score\")\n",
    "\n",
    "    ax2.set_title(\"PPV\")\n",
    "    ax2.bar(metrics[\"ppv\"].keys(), metrics[\"ppv\"].values(), color=colors, label=\"PPV\")\n",
    "    ax2.grid(axis=\"y\", linestyle=\"--\", alpha=0.25)\n",
    "    ax2.set_xlabel(\"dataset\")\n",
    "    ax2.set_ylabel(\"score\")\n",
    "\n",
    "    ax3.set_title(\"TPR\")\n",
    "    ax3.bar(metrics[\"tpr\"].keys(), metrics[\"tpr\"].values(), color=colors, label=\"TPR\")\n",
    "    ax3.grid(axis=\"y\", linestyle=\"--\", alpha=0.25)\n",
    "    ax3.set_xlabel(\"dataset\")\n",
    "    ax3.set_ylabel(\"score\")\n",
    "\n",
    "    ax4.set_title(\"TNR\")\n",
    "    ax4.bar(metrics[\"tnr\"].keys(), metrics[\"tnr\"].values(), color=colors, label=\"TNR\")\n",
    "    ax4.grid(axis=\"y\", linestyle=\"--\", alpha=0.25)\n",
    "    ax4.set_xlabel(\"dataset\")\n",
    "    ax4.set_ylabel(\"score\")\n",
    "\n",
    "    fig.savefig(FIGURES_DIR / \"results.png\")"
   ]
  },
  {
   "cell_type": "code",
   "execution_count": 14,
   "metadata": {},
   "outputs": [
    {
     "data": {
      "image/png": "[encoded data removed]",
      "text/plain": [
       "<Figure size 1200x800 with 4 Axes>"
      ]
     },
     "metadata": {},
     "output_type": "display_data"
    }
   ],
   "source": [
    "datasets = (\"ArchiveII\", \"PDB\", \"TransferLearning\")\n",
    "\n",
    "plot_metrics(datasets)"
   ]
  }
 ],
 "metadata": {
  "kernelspec": {
   "display_name": ".venv",
   "language": "python",
   "name": "python3"
  },
  "language_info": {
   "codemirror_mode": {
    "name": "ipython",
    "version": 3
   },
   "file_extension": ".py",
   "mimetype": "text/x-python",
   "name": "python",
   "nbconvert_exporter": "python",
   "pygments_lexer": "ipython3",
   "version": "3.9.6"
  }
 },
 "nbformat": 4,
 "nbformat_minor": 2
}
