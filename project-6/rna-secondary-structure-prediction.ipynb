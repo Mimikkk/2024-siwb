{
 "cells": [
  {
   "cell_type": "markdown",
   "metadata": {},
   "source": [
    "# Projekt 6: Przewidywanie struktury drugorzędowej RNA"
   ]
  },
  {
   "cell_type": "code",
   "execution_count": 1,
   "metadata": {},
   "outputs": [],
   "source": [
    "# %pip install matplotlib pandas seaborn"
   ]
  },
  {
   "cell_type": "code",
   "execution_count": 2,
   "metadata": {},
   "outputs": [],
   "source": [
    "import os\n",
    "import random\n",
    "from collections import defaultdict\n",
    "from pathlib import Path\n",
    "\n",
    "import matplotlib.pyplot as plt\n",
    "import pandas as pd\n",
    "import seaborn as sns\n",
    "\n",
    "\n",
    "DATASET_DIR = Path(\"./resources/datasets\")\n",
    "MODELS_DIR = Path(\"./resources/models\")\n",
    "RESULTS_DIR = Path(\"./resources/results\")\n",
    "FIGURES_DIR = Path(\"./resources/figures\")"
   ]
  },
  {
   "cell_type": "code",
   "execution_count": 3,
   "metadata": {},
   "outputs": [],
   "source": [
    "def split_datasets(\n",
    "    path: Path, train_ratio: float = 0.7, valid_ratio: float = 0.15, test_ratio: float = 0.15\n",
    ") -> None:\n",
    "    random.seed(42)\n",
    "    files = [f\"{path}/{f}\" for f in os.listdir(path) if f.endswith(\".bpseq\")]\n",
    "    random.shuffle(files)\n",
    "\n",
    "    total_files = len(files)\n",
    "    train_count = int(total_files * train_ratio)\n",
    "    valid_count = int(total_files * valid_ratio)\n",
    "\n",
    "    train_files = files[:train_count]\n",
    "    valid_files = files[train_count : train_count + valid_count]\n",
    "    test_files = files[train_count + valid_count :]\n",
    "\n",
    "    with open(f\"{path}-train-bpseq.lst\", \"w\") as f:\n",
    "        f.write(\"\\n\".join(train_files))\n",
    "    with open(f\"{path}-valid-bpseq.lst\", \"w\") as f:\n",
    "        f.write(\"\\n\".join(valid_files))\n",
    "    with open(f\"{path}-test-bpseq.lst\", \"w\") as f:\n",
    "        f.write(\"\\n\".join(test_files))\n",
    "\n",
    "    with open(f\"{path}-train-fa.lst\", \"w\") as f:\n",
    "        f.write(\"\\n\".join(train_files).replace(\".bpseq\", \".fa\"))\n",
    "    with open(f\"{path}-valid-fa.lst\", \"w\") as f:\n",
    "        f.write(\"\\n\".join(valid_files).replace(\".bpseq\", \".fa\"))\n",
    "    with open(f\"{path}-test-fa.lst\", \"w\") as f:\n",
    "        f.write(\"\\n\".join(test_files).replace(\".bpseq\", \".fa\"))\n",
    "\n",
    "\n",
    "def datasets_sanity_check() -> None:\n",
    "    lst_files = [file for file in os.listdir(DATASET_DIR) if file.endswith(\".lst\")]\n",
    "\n",
    "    for file in lst_files:\n",
    "        file_path = DATASET_DIR / file\n",
    "        with open(file_path, \"r\") as f:\n",
    "            lines = f.readlines()\n",
    "        num_lines = len(lines)\n",
    "\n",
    "        total_files = len(os.listdir(DATASET_DIR / file.split(\"-\")[0])) // 2\n",
    "        print(f\"{file:<25} has {round(num_lines/total_files * 100)}% files ({num_lines})\")"
   ]
  },
  {
   "cell_type": "code",
   "execution_count": 4,
   "metadata": {},
   "outputs": [
    {
     "name": "stdout",
     "output_type": "stream",
     "text": [
      "ArchiveII-train-fa.lst    has 70% files (2779)\n",
      "PDB-train-fa.lst          has 70% files (413)\n",
      "ArchiveII-test-bpseq.lst  has 15% files (596)\n",
      "ArchiveII-test-fa.lst     has 15% files (596)\n",
      "ArchiveII-valid-fa.lst    has 15% files (595)\n",
      "PDB-valid-fa.lst          has 15% files (88)\n",
      "PDB-valid-bpseq.lst       has 15% files (88)\n",
      "PDB-test-bpseq.lst        has 15% files (89)\n",
      "ArchiveII-train-bpseq.lst has 70% files (2779)\n",
      "PDB-test-fa.lst           has 15% files (89)\n",
      "ArchiveII-valid-bpseq.lst has 15% files (595)\n",
      "PDB-train-bpseq.lst       has 70% files (413)\n"
     ]
    }
   ],
   "source": [
    "split_datasets(DATASET_DIR / \"ArchiveII\")\n",
    "split_datasets(DATASET_DIR / \"PDB\")\n",
    "datasets_sanity_check()"
   ]
  },
  {
   "cell_type": "markdown",
   "metadata": {},
   "source": [
    "## ArchiveII Dataset"
   ]
  },
  {
   "cell_type": "code",
   "execution_count": 5,
   "metadata": {},
   "outputs": [],
   "source": [
    "NUMBER_OF_EPOCHS = 10"
   ]
  },
  {
   "cell_type": "code",
   "execution_count": 6,
   "metadata": {},
   "outputs": [
    {
     "name": "stdout",
     "output_type": "stream",
     "text": [
      "100%|█████████████████| 2779/2779 [07:13<00:00,  6.41it/s, train_loss=1.391e-01]\n",
      "Train Epoch: 1\tLoss: 0.139070\tTime: 433.384s\n",
      "100%|████████████████████| 595/595 [01:57<00:00,  5.06it/s, test_loss=1.363e-01]\n",
      "Test Epoch: 1\tLoss: 0.136262\tTime: 117.639s\n",
      "100%|█████████████████| 2779/2779 [07:18<00:00,  6.34it/s, train_loss=1.358e-01]\n",
      "Train Epoch: 2\tLoss: 0.135770\tTime: 438.019s\n",
      "100%|████████████████████| 595/595 [02:02<00:00,  4.86it/s, test_loss=1.336e-01]\n",
      "Test Epoch: 2\tLoss: 0.133605\tTime: 122.430s\n",
      "100%|█████████████████| 2779/2779 [07:18<00:00,  6.34it/s, train_loss=1.325e-01]\n",
      "Train Epoch: 3\tLoss: 0.132533\tTime: 438.547s\n",
      "100%|████████████████████| 595/595 [02:02<00:00,  4.86it/s, test_loss=1.310e-01]\n",
      "Test Epoch: 3\tLoss: 0.130950\tTime: 122.524s\n",
      "100%|█████████████████| 2779/2779 [07:16<00:00,  6.37it/s, train_loss=1.293e-01]\n",
      "Train Epoch: 4\tLoss: 0.129295\tTime: 436.352s\n",
      "100%|████████████████████| 595/595 [02:00<00:00,  4.96it/s, test_loss=1.282e-01]\n",
      "Test Epoch: 4\tLoss: 0.128228\tTime: 120.044s\n",
      "100%|█████████████████| 2779/2779 [07:12<00:00,  6.43it/s, train_loss=1.261e-01]\n",
      "Train Epoch: 5\tLoss: 0.126132\tTime: 432.052s\n",
      "100%|████████████████████| 595/595 [01:58<00:00,  5.00it/s, test_loss=1.258e-01]\n",
      "Test Epoch: 5\tLoss: 0.125828\tTime: 118.894s\n",
      "100%|█████████████████| 2779/2779 [07:11<00:00,  6.44it/s, train_loss=1.232e-01]\n",
      "Train Epoch: 6\tLoss: 0.123246\tTime: 431.670s\n",
      "100%|████████████████████| 595/595 [01:57<00:00,  5.07it/s, test_loss=1.237e-01]\n",
      "Test Epoch: 6\tLoss: 0.123662\tTime: 117.301s\n",
      "100%|█████████████████| 2779/2779 [07:11<00:00,  6.44it/s, train_loss=1.208e-01]\n",
      "Train Epoch: 7\tLoss: 0.120836\tTime: 431.250s\n",
      "100%|████████████████████| 595/595 [01:59<00:00,  4.99it/s, test_loss=1.219e-01]\n",
      "Test Epoch: 7\tLoss: 0.121912\tTime: 119.176s\n",
      "100%|█████████████████| 2779/2779 [07:12<00:00,  6.43it/s, train_loss=1.189e-01]\n",
      "Train Epoch: 8\tLoss: 0.118881\tTime: 432.426s\n",
      "100%|████████████████████| 595/595 [01:58<00:00,  5.03it/s, test_loss=1.207e-01]\n",
      "Test Epoch: 8\tLoss: 0.120670\tTime: 118.181s\n",
      "100%|█████████████████| 2779/2779 [07:11<00:00,  6.44it/s, train_loss=1.174e-01]\n",
      "Train Epoch: 9\tLoss: 0.117362\tTime: 431.218s\n",
      "100%|████████████████████| 595/595 [01:57<00:00,  5.04it/s, test_loss=1.198e-01]\n",
      "Test Epoch: 9\tLoss: 0.119779\tTime: 117.980s\n",
      "100%|█████████████████| 2779/2779 [07:11<00:00,  6.44it/s, train_loss=1.162e-01]\n",
      "Train Epoch: 10\tLoss: 0.116157\tTime: 431.782s\n",
      "100%|████████████████████| 595/595 [01:57<00:00,  5.04it/s, test_loss=1.190e-01]\n",
      "Test Epoch: 10\tLoss: 0.119017\tTime: 117.992s\n"
     ]
    }
   ],
   "source": [
    "DATASET_NAME = \"ArchiveII\"\n",
    "!mxfold2 train {DATASET_DIR}/{DATASET_NAME}-train-bpseq.lst --test-input {DATASET_DIR}/{DATASET_NAME}-valid-bpseq.lst \\\n",
    "    --param {MODELS_DIR}/{DATASET_NAME}-model.pth --save-config {MODELS_DIR}/{DATASET_NAME}-model.conf --epoch {NUMBER_OF_EPOCHS}"
   ]
  },
  {
   "cell_type": "code",
   "execution_count": 7,
   "metadata": {},
   "outputs": [],
   "source": [
    "DATASET_NAME = \"ArchiveII\"\n",
    "!mxfold2 predict {DATASET_DIR}/{DATASET_NAME}-test-bpseq.lst --param {MODELS_DIR}/{DATASET_NAME}-model.pth \\\n",
    "    --bpseq {RESULTS_DIR}/{DATASET_NAME} --result {RESULTS_DIR}/{DATASET_NAME}-results.csv"
   ]
  },
  {
   "cell_type": "markdown",
   "metadata": {},
   "source": [
    "## PDB Dataset"
   ]
  },
  {
   "cell_type": "code",
   "execution_count": 8,
   "metadata": {},
   "outputs": [
    {
     "name": "stdout",
     "output_type": "stream",
     "text": [
      "100%|███████████████████| 413/413 [08:29<00:00,  1.23s/it, train_loss=1.378e-01]\n",
      "Train Epoch: 1\tLoss: 0.137833\tTime: 509.896s\n",
      "100%|██████████████████████| 88/88 [03:20<00:00,  2.28s/it, test_loss=1.439e-01]\n",
      "Test Epoch: 1\tLoss: 0.143882\tTime: 200.596s\n",
      "100%|███████████████████| 413/413 [08:35<00:00,  1.25s/it, train_loss=1.355e-01]\n",
      "Train Epoch: 2\tLoss: 0.135519\tTime: 515.400s\n",
      "100%|██████████████████████| 88/88 [03:08<00:00,  2.14s/it, test_loss=1.414e-01]\n",
      "Test Epoch: 2\tLoss: 0.141431\tTime: 188.166s\n",
      "100%|███████████████████| 413/413 [08:42<00:00,  1.26s/it, train_loss=1.333e-01]\n",
      "Train Epoch: 3\tLoss: 0.133310\tTime: 522.097s\n",
      "100%|██████████████████████| 88/88 [03:24<00:00,  2.33s/it, test_loss=1.388e-01]\n",
      "Test Epoch: 3\tLoss: 0.138836\tTime: 204.775s\n",
      "100%|███████████████████| 413/413 [08:41<00:00,  1.26s/it, train_loss=1.310e-01]\n",
      "Train Epoch: 4\tLoss: 0.131011\tTime: 521.731s\n",
      "100%|██████████████████████| 88/88 [03:18<00:00,  2.26s/it, test_loss=1.362e-01]\n",
      "Test Epoch: 4\tLoss: 0.136165\tTime: 198.480s\n",
      "100%|███████████████████| 413/413 [08:40<00:00,  1.26s/it, train_loss=1.287e-01]\n",
      "Train Epoch: 5\tLoss: 0.128732\tTime: 520.137s\n",
      "100%|██████████████████████| 88/88 [03:22<00:00,  2.30s/it, test_loss=1.338e-01]\n",
      "Test Epoch: 5\tLoss: 0.133833\tTime: 202.127s\n",
      "100%|███████████████████| 413/413 [08:45<00:00,  1.27s/it, train_loss=1.265e-01]\n",
      "Train Epoch: 6\tLoss: 0.126524\tTime: 525.963s\n",
      "100%|██████████████████████| 88/88 [03:17<00:00,  2.24s/it, test_loss=1.314e-01]\n",
      "Test Epoch: 6\tLoss: 0.131447\tTime: 197.536s\n",
      "100%|███████████████████| 413/413 [08:38<00:00,  1.25s/it, train_loss=1.242e-01]\n",
      "Train Epoch: 7\tLoss: 0.124181\tTime: 518.016s\n",
      "100%|██████████████████████| 88/88 [03:21<00:00,  2.29s/it, test_loss=1.290e-01]\n",
      "Test Epoch: 7\tLoss: 0.129015\tTime: 201.272s\n",
      "100%|███████████████████| 413/413 [08:44<00:00,  1.27s/it, train_loss=1.219e-01]\n",
      "Train Epoch: 8\tLoss: 0.121899\tTime: 524.256s\n",
      "100%|██████████████████████| 88/88 [03:22<00:00,  2.30s/it, test_loss=1.267e-01]\n",
      "Test Epoch: 8\tLoss: 0.126661\tTime: 202.251s\n",
      "100%|███████████████████| 413/413 [08:39<00:00,  1.26s/it, train_loss=1.197e-01]\n",
      "Train Epoch: 9\tLoss: 0.119670\tTime: 519.028s\n",
      "100%|██████████████████████| 88/88 [03:19<00:00,  2.27s/it, test_loss=1.242e-01]\n",
      "Test Epoch: 9\tLoss: 0.124205\tTime: 199.402s\n",
      "100%|███████████████████| 413/413 [08:41<00:00,  1.26s/it, train_loss=1.173e-01]\n",
      "Train Epoch: 10\tLoss: 0.117323\tTime: 521.160s\n",
      "100%|██████████████████████| 88/88 [03:19<00:00,  2.27s/it, test_loss=1.219e-01]\n",
      "Test Epoch: 10\tLoss: 0.121915\tTime: 199.343s\n"
     ]
    }
   ],
   "source": [
    "DATASET_NAME = \"PDB\"\n",
    "!mxfold2 train {DATASET_DIR}/{DATASET_NAME}-train-bpseq.lst --test-input {DATASET_DIR}/{DATASET_NAME}-valid-bpseq.lst \\\n",
    "    --param {MODELS_DIR}/{DATASET_NAME}-model.pth --save-config {MODELS_DIR}/{DATASET_NAME}-model.conf --epoch {NUMBER_OF_EPOCHS}"
   ]
  },
  {
   "cell_type": "code",
   "execution_count": 9,
   "metadata": {},
   "outputs": [],
   "source": [
    "DATASET_NAME = \"PDB\"\n",
    "!mxfold2 predict {DATASET_DIR}/{DATASET_NAME}-test-bpseq.lst --param {MODELS_DIR}/{DATASET_NAME}-model.pth \\\n",
    "    --bpseq {RESULTS_DIR}/{DATASET_NAME} --result {RESULTS_DIR}/{DATASET_NAME}-results.csv"
   ]
  },
  {
   "cell_type": "markdown",
   "metadata": {},
   "source": [
    "## Transfer Learning (ArchiveII -> PDB)"
   ]
  },
  {
   "cell_type": "code",
   "execution_count": 10,
   "metadata": {},
   "outputs": [
    {
     "name": "stdout",
     "output_type": "stream",
     "text": [
      "100%|███████████████████| 413/413 [08:17<00:00,  1.21s/it, train_loss=1.147e-01]\n",
      "Train Epoch: 1\tLoss: 0.114687\tTime: 497.704s\n",
      "100%|██████████████████████| 88/88 [03:11<00:00,  2.18s/it, test_loss=1.078e-01]\n",
      "Test Epoch: 1\tLoss: 0.107844\tTime: 191.498s\n",
      "100%|███████████████████| 413/413 [08:26<00:00,  1.23s/it, train_loss=1.099e-01]\n",
      "Train Epoch: 2\tLoss: 0.109882\tTime: 506.562s\n",
      "100%|██████████████████████| 88/88 [03:16<00:00,  2.23s/it, test_loss=1.048e-01]\n",
      "Test Epoch: 2\tLoss: 0.104850\tTime: 196.059s\n",
      "100%|███████████████████| 413/413 [08:38<00:00,  1.26s/it, train_loss=1.065e-01]\n",
      "Train Epoch: 3\tLoss: 0.106550\tTime: 518.877s\n",
      "100%|██████████████████████| 88/88 [03:19<00:00,  2.26s/it, test_loss=1.032e-01]\n",
      "Test Epoch: 3\tLoss: 0.103244\tTime: 199.314s\n",
      "100%|███████████████████| 413/413 [08:38<00:00,  1.26s/it, train_loss=1.039e-01]\n",
      "Train Epoch: 4\tLoss: 0.103909\tTime: 518.845s\n",
      "100%|██████████████████████| 88/88 [03:19<00:00,  2.26s/it, test_loss=1.016e-01]\n",
      "Test Epoch: 4\tLoss: 0.101631\tTime: 199.203s\n",
      "100%|███████████████████| 413/413 [08:38<00:00,  1.26s/it, train_loss=1.017e-01]\n",
      "Train Epoch: 5\tLoss: 0.101733\tTime: 518.481s\n",
      "100%|██████████████████████| 88/88 [03:18<00:00,  2.26s/it, test_loss=1.005e-01]\n",
      "Test Epoch: 5\tLoss: 0.100499\tTime: 198.486s\n",
      "100%|███████████████████| 413/413 [08:40<00:00,  1.26s/it, train_loss=9.999e-02]\n",
      "Train Epoch: 6\tLoss: 0.099993\tTime: 520.534s\n",
      "100%|██████████████████████| 88/88 [03:14<00:00,  2.21s/it, test_loss=9.961e-02]\n",
      "Test Epoch: 6\tLoss: 0.099609\tTime: 194.749s\n",
      "100%|███████████████████| 413/413 [08:35<00:00,  1.25s/it, train_loss=9.837e-02]\n",
      "Train Epoch: 7\tLoss: 0.098372\tTime: 515.815s\n",
      "100%|██████████████████████| 88/88 [03:17<00:00,  2.25s/it, test_loss=9.914e-02]\n",
      "Test Epoch: 7\tLoss: 0.099144\tTime: 197.998s\n",
      "100%|███████████████████| 413/413 [08:37<00:00,  1.25s/it, train_loss=9.710e-02]\n",
      "Train Epoch: 8\tLoss: 0.097099\tTime: 517.446s\n",
      "100%|██████████████████████| 88/88 [03:18<00:00,  2.26s/it, test_loss=9.863e-02]\n",
      "Test Epoch: 8\tLoss: 0.098631\tTime: 198.522s\n",
      "100%|███████████████████| 413/413 [08:38<00:00,  1.25s/it, train_loss=9.591e-02]\n",
      "Train Epoch: 9\tLoss: 0.095912\tTime: 518.272s\n",
      "100%|██████████████████████| 88/88 [03:19<00:00,  2.27s/it, test_loss=9.818e-02]\n",
      "Test Epoch: 9\tLoss: 0.098180\tTime: 199.899s\n",
      "100%|███████████████████| 413/413 [08:38<00:00,  1.25s/it, train_loss=9.485e-02]\n",
      "Train Epoch: 10\tLoss: 0.094850\tTime: 518.010s\n",
      "100%|██████████████████████| 88/88 [03:19<00:00,  2.27s/it, test_loss=9.784e-02]\n",
      "Test Epoch: 10\tLoss: 0.097842\tTime: 199.672s\n"
     ]
    }
   ],
   "source": [
    "DATASET_NAME = \"PDB\"\n",
    "!mxfold2 train {DATASET_DIR}/{DATASET_NAME}-train-bpseq.lst --test-input {DATASET_DIR}/{DATASET_NAME}-valid-bpseq.lst --init-param {MODELS_DIR}/ArchiveII-model.pth \\\n",
    "    --param {MODELS_DIR}/TransferLearning-model.pth --save-config {MODELS_DIR}/TransferLearning-model.conf --epoch {NUMBER_OF_EPOCHS}"
   ]
  },
  {
   "cell_type": "code",
   "execution_count": 11,
   "metadata": {},
   "outputs": [],
   "source": [
    "DATASET_NAME = \"PDB\"\n",
    "!mxfold2 predict {DATASET_DIR}/{DATASET_NAME}-test-bpseq.lst --param {MODELS_DIR}/TransferLearning-model.pth \\\n",
    "    --bpseq {RESULTS_DIR}/TransferLearning --result {RESULTS_DIR}/TransferLearning-results.csv"
   ]
  },
  {
   "cell_type": "markdown",
   "metadata": {},
   "source": [
    "## Results"
   ]
  },
  {
   "cell_type": "code",
   "execution_count": 12,
   "metadata": {},
   "outputs": [
    {
     "data": {
      "text/html": [
       "<div>\n",
       "<style scoped>\n",
       "    .dataframe tbody tr th:only-of-type {\n",
       "        vertical-align: middle;\n",
       "    }\n",
       "\n",
       "    .dataframe tbody tr th {\n",
       "        vertical-align: top;\n",
       "    }\n",
       "\n",
       "    .dataframe thead th {\n",
       "        text-align: right;\n",
       "    }\n",
       "</style>\n",
       "<table border=\"1\" class=\"dataframe\">\n",
       "  <thead>\n",
       "    <tr style=\"text-align: right;\">\n",
       "      <th></th>\n",
       "      <th>filename</th>\n",
       "      <th>sequence_length</th>\n",
       "      <th>elapsed_time</th>\n",
       "      <th>sc</th>\n",
       "      <th>tp</th>\n",
       "      <th>tn</th>\n",
       "      <th>fp</th>\n",
       "      <th>fn</th>\n",
       "      <th>sen</th>\n",
       "      <th>ppv</th>\n",
       "      <th>fval</th>\n",
       "      <th>mcc</th>\n",
       "    </tr>\n",
       "  </thead>\n",
       "  <tbody>\n",
       "    <tr>\n",
       "      <th>0</th>\n",
       "      <td>resources/datasets/ArchiveII/tRNA_tdbR00000133...</td>\n",
       "      <td>74</td>\n",
       "      <td>0.002692</td>\n",
       "      <td>21.262447</td>\n",
       "      <td>16</td>\n",
       "      <td>2670</td>\n",
       "      <td>9</td>\n",
       "      <td>6</td>\n",
       "      <td>0.727273</td>\n",
       "      <td>0.640000</td>\n",
       "      <td>0.680851</td>\n",
       "      <td>0.679471</td>\n",
       "    </tr>\n",
       "    <tr>\n",
       "      <th>1</th>\n",
       "      <td>resources/datasets/ArchiveII/tRNA_tdbR00000184...</td>\n",
       "      <td>76</td>\n",
       "      <td>0.001992</td>\n",
       "      <td>10.454329</td>\n",
       "      <td>15</td>\n",
       "      <td>2830</td>\n",
       "      <td>0</td>\n",
       "      <td>5</td>\n",
       "      <td>0.750000</td>\n",
       "      <td>1.000000</td>\n",
       "      <td>0.857143</td>\n",
       "      <td>0.865261</td>\n",
       "    </tr>\n",
       "    <tr>\n",
       "      <th>2</th>\n",
       "      <td>resources/datasets/ArchiveII/RNaseP_C.trachoma...</td>\n",
       "      <td>408</td>\n",
       "      <td>0.166454</td>\n",
       "      <td>87.740036</td>\n",
       "      <td>84</td>\n",
       "      <td>82868</td>\n",
       "      <td>29</td>\n",
       "      <td>47</td>\n",
       "      <td>0.641221</td>\n",
       "      <td>0.743363</td>\n",
       "      <td>0.688525</td>\n",
       "      <td>0.689954</td>\n",
       "    </tr>\n",
       "    <tr>\n",
       "      <th>3</th>\n",
       "      <td>resources/datasets/ArchiveII/5s_Graphiola-phoe...</td>\n",
       "      <td>118</td>\n",
       "      <td>0.007524</td>\n",
       "      <td>31.200481</td>\n",
       "      <td>34</td>\n",
       "      <td>6866</td>\n",
       "      <td>2</td>\n",
       "      <td>1</td>\n",
       "      <td>0.971429</td>\n",
       "      <td>0.944444</td>\n",
       "      <td>0.957746</td>\n",
       "      <td>0.957624</td>\n",
       "    </tr>\n",
       "    <tr>\n",
       "      <th>4</th>\n",
       "      <td>resources/datasets/ArchiveII/srp_Clos.acet._AE...</td>\n",
       "      <td>262</td>\n",
       "      <td>0.064446</td>\n",
       "      <td>63.901093</td>\n",
       "      <td>76</td>\n",
       "      <td>34095</td>\n",
       "      <td>7</td>\n",
       "      <td>13</td>\n",
       "      <td>0.853933</td>\n",
       "      <td>0.915663</td>\n",
       "      <td>0.883721</td>\n",
       "      <td>0.883969</td>\n",
       "    </tr>\n",
       "  </tbody>\n",
       "</table>\n",
       "</div>"
      ],
      "text/plain": [
       "                                            filename  sequence_length  \\\n",
       "0  resources/datasets/ArchiveII/tRNA_tdbR00000133...               74   \n",
       "1  resources/datasets/ArchiveII/tRNA_tdbR00000184...               76   \n",
       "2  resources/datasets/ArchiveII/RNaseP_C.trachoma...              408   \n",
       "3  resources/datasets/ArchiveII/5s_Graphiola-phoe...              118   \n",
       "4  resources/datasets/ArchiveII/srp_Clos.acet._AE...              262   \n",
       "\n",
       "   elapsed_time         sc  tp     tn  fp  fn       sen       ppv      fval  \\\n",
       "0      0.002692  21.262447  16   2670   9   6  0.727273  0.640000  0.680851   \n",
       "1      0.001992  10.454329  15   2830   0   5  0.750000  1.000000  0.857143   \n",
       "2      0.166454  87.740036  84  82868  29  47  0.641221  0.743363  0.688525   \n",
       "3      0.007524  31.200481  34   6866   2   1  0.971429  0.944444  0.957746   \n",
       "4      0.064446  63.901093  76  34095   7  13  0.853933  0.915663  0.883721   \n",
       "\n",
       "        mcc  \n",
       "0  0.679471  \n",
       "1  0.865261  \n",
       "2  0.689954  \n",
       "3  0.957624  \n",
       "4  0.883969  "
      ]
     },
     "execution_count": 12,
     "metadata": {},
     "output_type": "execute_result"
    }
   ],
   "source": [
    "columns: list[str] = [\n",
    "    \"filename\",\n",
    "    \"sequence_length\",\n",
    "    \"elapsed_time\",\n",
    "    \"sc\",\n",
    "    \"tp\",\n",
    "    \"tn\",\n",
    "    \"fp\",\n",
    "    \"fn\",\n",
    "    \"sen\",\n",
    "    \"ppv\",\n",
    "    \"fval\",\n",
    "    \"mcc\",\n",
    "]\n",
    "\n",
    "results = pd.read_csv(RESULTS_DIR / \"ArchiveII-results.csv\", header=None, names=columns)\n",
    "results.head()"
   ]
  },
  {
   "cell_type": "code",
   "execution_count": 13,
   "metadata": {},
   "outputs": [],
   "source": [
    "def calculate_metrics(results: pd.DataFrame) -> pd.DataFrame:\n",
    "    \"\"\"Calculate the metrics for the given results: INF, PPV, TPR, TNR.\"\"\"\n",
    "    tp_sum, tn_sum, fp_sum, fn_sum = results[[\"tp\", \"tn\", \"fp\", \"fn\"]].sum()\n",
    "    ppv = tp_sum / (tp_sum + fp_sum)\n",
    "    tpr = tp_sum / (tp_sum + fn_sum)\n",
    "    inf = (ppv * tpr) ** 0.5\n",
    "    tnr = tn_sum / (tn_sum + fp_sum)\n",
    "    return inf, ppv, tpr, tnr\n",
    "\n",
    "\n",
    "def plot_metrics(datasets: tuple[str]) -> None:\n",
    "    \"\"\"Plot the metrics for the given results.\"\"\"\n",
    "    metrics = defaultdict(dict)\n",
    "    for dataset in datasets:\n",
    "        df = pd.read_csv(RESULTS_DIR / f\"{dataset}-results.csv\", header=None, names=columns)\n",
    "        inf, ppv, tpr, tnr = calculate_metrics(df)\n",
    "        metrics[\"inf\"].update({dataset: inf})\n",
    "        metrics[\"ppv\"].update({dataset: ppv})\n",
    "        metrics[\"tpr\"].update({dataset: tpr})\n",
    "        metrics[\"tnr\"].update({dataset: tnr})\n",
    "\n",
    "    colors = sns.color_palette(\"magma\", 3)\n",
    "    fig, axs = plt.subplots(2, 2, figsize=(12, 8), tight_layout=True)\n",
    "    ax1, ax2, ax3, ax4 = axs.flatten()\n",
    "\n",
    "    ax1.set_title(\"INF\")\n",
    "    ax1.bar(metrics[\"inf\"].keys(), metrics[\"inf\"].values(), color=colors, label=\"INF\")\n",
    "    ax1.grid(axis=\"y\", linestyle=\"--\", alpha=0.25)\n",
    "    ax1.set_xlabel(\"dataset\")\n",
    "    ax1.set_ylabel(\"score\")\n",
    "\n",
    "    ax2.set_title(\"PPV\")\n",
    "    ax2.bar(metrics[\"ppv\"].keys(), metrics[\"ppv\"].values(), color=colors, label=\"PPV\")\n",
    "    ax2.grid(axis=\"y\", linestyle=\"--\", alpha=0.25)\n",
    "    ax2.set_xlabel(\"dataset\")\n",
    "    ax2.set_ylabel(\"score\")\n",
    "\n",
    "    ax3.set_title(\"TPR\")\n",
    "    ax3.bar(metrics[\"tpr\"].keys(), metrics[\"tpr\"].values(), color=colors, label=\"TPR\")\n",
    "    ax3.grid(axis=\"y\", linestyle=\"--\", alpha=0.25)\n",
    "    ax3.set_xlabel(\"dataset\")\n",
    "    ax3.set_ylabel(\"score\")\n",
    "\n",
    "    ax4.set_title(\"TNR\")\n",
    "    ax4.bar(metrics[\"tnr\"].keys(), metrics[\"tnr\"].values(), color=colors, label=\"TNR\")\n",
    "    ax4.grid(axis=\"y\", linestyle=\"--\", alpha=0.25)\n",
    "    ax4.set_xlabel(\"dataset\")\n",
    "    ax4.set_ylabel(\"score\")\n",
    "\n",
    "    fig.savefig(FIGURES_DIR / \"results.png\")"
   ]
  },
  {
   "cell_type": "code",
   "execution_count": 14,
   "metadata": {},
   "outputs": [
    {
     "data": {
      "image/png": "[encoded data removed]",
      "text/plain": [
       "<Figure size 1200x800 with 4 Axes>"
      ]
     },
     "metadata": {},
     "output_type": "display_data"
    }
   ],
   "source": [
    "datasets = (\"ArchiveII\", \"PDB\", \"TransferLearning\")\n",
    "\n",
    "plot_metrics(datasets)"
   ]
  }
 ],
 "metadata": {
  "kernelspec": {
   "display_name": ".venv",
   "language": "python",
   "name": "python3"
  },
  "language_info": {
   "codemirror_mode": {
    "name": "ipython",
    "version": 3
   },
   "file_extension": ".py",
   "mimetype": "text/x-python",
   "name": "python",
   "nbconvert_exporter": "python",
   "pygments_lexer": "ipython3",
   "version": "3.9.6"
  }
 },
 "nbformat": 4,
 "nbformat_minor": 2
}
