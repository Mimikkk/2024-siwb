{
 "cells": [
  {
   "cell_type": "markdown",
   "metadata": {},
   "source": [
    "# Projekt 6: Przewidywanie struktury drugorzędowej RNA"
   ]
  },
  {
   "cell_type": "code",
   "execution_count": 5,
   "metadata": {
    "ExecuteTime": {
     "end_time": "2024-05-14T12:11:56.928244932Z",
     "start_time": "2024-05-14T12:11:56.899766862Z"
    }
   },
   "outputs": [],
   "source": [
    "# %pip install matplotlib pandas seaborn"
   ]
  },
  {
   "cell_type": "code",
   "execution_count": 8,
   "metadata": {
    "ExecuteTime": {
     "end_time": "2024-05-14T12:49:03.881584810Z",
     "start_time": "2024-05-14T12:49:03.876959064Z"
    }
   },
   "outputs": [],
   "source": [
    "import os\n",
    "import random\n",
    "from collections import defaultdict\n",
    "from pathlib import Path\n",
    "\n",
    "import matplotlib.pyplot as plt\n",
    "import pandas as pd\n",
    "import seaborn as sns\n",
    "\n",
    "DatasetDirectory = Path(\"./resources/datasets\")\n",
    "ModelDirectory = Path(\"./resources/models\")\n",
    "ResultsDirectory = Path(\"./resources/results\")\n",
    "FiguresDirectory = Path(\"./resources/figures\")"
   ]
  },
  {
   "cell_type": "code",
   "execution_count": 10,
   "metadata": {
    "ExecuteTime": {
     "end_time": "2024-05-14T12:49:13.229435762Z",
     "start_time": "2024-05-14T12:49:13.211489696Z"
    }
   },
   "outputs": [],
   "source": [
    "def split_datasets(\n",
    "    path: Path, train_ratio: float = 0.7, valid_ratio: float = 0.15, test_ratio: float = 0.15\n",
    ") -> None:\n",
    "  random.seed(42)\n",
    "  files = [f\"{path}/{f}\" for f in os.listdir(path) if f.endswith(\".bpseq\")]\n",
    "  random.shuffle(files)\n",
    "\n",
    "  total_files = len(files)\n",
    "  train_count = int(total_files * train_ratio)\n",
    "  valid_count = int(total_files * valid_ratio)\n",
    "\n",
    "  train_files = files[:train_count]\n",
    "  valid_files = files[train_count: train_count + valid_count]\n",
    "  test_files = files[train_count + valid_count:]\n",
    "\n",
    "  with open(f\"{path}-train-bpseq.lst\", \"w\") as f:\n",
    "    f.write(\"\\n\".join(train_files))\n",
    "  with open(f\"{path}-valid-bpseq.lst\", \"w\") as f:\n",
    "    f.write(\"\\n\".join(valid_files))\n",
    "  with open(f\"{path}-test-bpseq.lst\", \"w\") as f:\n",
    "    f.write(\"\\n\".join(test_files))\n",
    "\n",
    "  with open(f\"{path}-train-fa.lst\", \"w\") as f:\n",
    "    f.write(\"\\n\".join(train_files).replace(\".bpseq\", \".fa\"))\n",
    "  with open(f\"{path}-valid-fa.lst\", \"w\") as f:\n",
    "    f.write(\"\\n\".join(valid_files).replace(\".bpseq\", \".fa\"))\n",
    "  with open(f\"{path}-test-fa.lst\", \"w\") as f:\n",
    "    f.write(\"\\n\".join(test_files).replace(\".bpseq\", \".fa\"))\n",
    "\n",
    "\n",
    "def datasets_sanity_check() -> None:\n",
    "  lst_files = [file for file in os.listdir(DatasetDirectory) if file.endswith(\".lst\")]\n",
    "\n",
    "  for file in lst_files:\n",
    "    file_path = DatasetDirectory / file\n",
    "    with open(file_path, \"r\") as f:\n",
    "      lines = f.readlines()\n",
    "    num_lines = len(lines)\n",
    "\n",
    "    total_files = len(os.listdir(DatasetDirectory / file.split(\"-\")[0])) // 2\n",
    "    print(f\"{file:<25} has {round(num_lines / total_files * 100)}% files ({num_lines})\")"
   ]
  },
  {
   "cell_type": "code",
   "execution_count": 11,
   "metadata": {
    "ExecuteTime": {
     "end_time": "2024-05-14T12:49:13.976329313Z",
     "start_time": "2024-05-14T12:49:13.915750863Z"
    }
   },
   "outputs": [
    {
     "name": "stdout",
     "output_type": "stream",
     "text": [
      "ArchiveII-train-bpseq.lst has 70% files (2779)\n",
      "ArchiveII-valid-bpseq.lst has 15% files (595)\n",
      "ArchiveII-test-bpseq.lst  has 15% files (596)\n",
      "ArchiveII-train-fa.lst    has 70% files (2779)\n",
      "ArchiveII-valid-fa.lst    has 15% files (595)\n",
      "ArchiveII-test-fa.lst     has 15% files (596)\n",
      "PDB-train-bpseq.lst       has 70% files (415)\n",
      "PDB-valid-bpseq.lst       has 15% files (89)\n",
      "PDB-test-bpseq.lst        has 15% files (90)\n",
      "PDB-train-fa.lst          has 70% files (415)\n",
      "PDB-valid-fa.lst          has 15% files (89)\n",
      "PDB-test-fa.lst           has 15% files (90)\n"
     ]
    }
   ],
   "source": [
    "split_datasets(DatasetDirectory / \"ArchiveII\")\n",
    "split_datasets(DatasetDirectory / \"PDB\")\n",
    "datasets_sanity_check()"
   ]
  },
  {
   "cell_type": "markdown",
   "metadata": {},
   "source": [
    "## ArchiveII Dataset"
   ]
  },
  {
   "cell_type": "code",
   "execution_count": 12,
   "metadata": {
    "ExecuteTime": {
     "end_time": "2024-05-14T12:49:16.134657682Z",
     "start_time": "2024-05-14T12:49:16.132511909Z"
    }
   },
   "outputs": [],
   "source": [
    "GpuCount: int = -1\n",
    "EpochCount: int = 1"
   ]
  },
  {
   "cell_type": "code",
   "execution_count": 13,
   "metadata": {
    "ExecuteTime": {
     "end_time": "2024-05-14T12:49:24.082260756Z",
     "start_time": "2024-05-14T12:49:16.874047176Z"
    }
   },
   "outputs": [
    {
     "name": "stdout",
     "output_type": "stream",
     "text": [
      "  1%|▎                  | 38/2779 [00:04<06:33,  6.97it/s, train_loss=1.373e-01]^C\r\n",
      "  1%|▎                  | 39/2779 [00:04<05:33,  8.23it/s, train_loss=1.373e-01]\r\n",
      "Traceback (most recent call last):\r\n",
      "  File \"/home/teba_dzdancewicz/PycharmProjects/2024-siwb/.venv/bin/mxfold2\", line 8, in <module>\r\n",
      "    sys.exit(main())\r\n",
      "             ^^^^^^\r\n",
      "  File \"/home/teba_dzdancewicz/PycharmProjects/2024-siwb/.venv/lib64/python3.11/site-packages/mxfold2/__main__.py\", line 33, in main\r\n",
      "    args.func(args, conf)\r\n",
      "  File \"/home/teba_dzdancewicz/PycharmProjects/2024-siwb/.venv/lib64/python3.11/site-packages/mxfold2/train.py\", line 356, in <lambda>\r\n",
      "    subparser.set_defaults(func = lambda args, conf: Train().run(args, conf))\r\n",
      "                                                     ^^^^^^^^^^^^^^^^^^^^^^^\r\n",
      "  File \"/home/teba_dzdancewicz/PycharmProjects/2024-siwb/.venv/lib64/python3.11/site-packages/mxfold2/train.py\", line 249, in run\r\n",
      "    self.train(epoch)\r\n",
      "  File \"/home/teba_dzdancewicz/PycharmProjects/2024-siwb/.venv/lib64/python3.11/site-packages/mxfold2/train.py\", line 48, in train\r\n",
      "    loss = torch.sum(self.loss_fn(seqs, pairs, fname=fnames))\r\n",
      "                     ^^^^^^^^^^^^^^^^^^^^^^^^^^^^^^^^^^^^^^^\r\n",
      "  File \"/home/teba_dzdancewicz/PycharmProjects/2024-siwb/.venv/lib64/python3.11/site-packages/torch/nn/modules/module.py\", line 1194, in _call_impl\r\n",
      "    return forward_call(*input, **kwargs)\r\n",
      "           ^^^^^^^^^^^^^^^^^^^^^^^^^^^^^^\r\n",
      "  File \"/home/teba_dzdancewicz/PycharmProjects/2024-siwb/.venv/lib64/python3.11/site-packages/mxfold2/loss.py\", line 21, in forward\r\n",
      "    pred, pred_s, _, param = self.model(seq, return_param=True, reference=pairs,\r\n",
      "                             ^^^^^^^^^^^^^^^^^^^^^^^^^^^^^^^^^^^^^^^^^^^^^^^^^^^\r\n",
      "  File \"/home/teba_dzdancewicz/PycharmProjects/2024-siwb/.venv/lib64/python3.11/site-packages/torch/nn/modules/module.py\", line 1194, in _call_impl\r\n",
      "    return forward_call(*input, **kwargs)\r\n",
      "           ^^^^^^^^^^^^^^^^^^^^^^^^^^^^^^\r\n",
      "  File \"/home/teba_dzdancewicz/PycharmProjects/2024-siwb/.venv/lib64/python3.11/site-packages/mxfold2/fold/fold.py\", line 43, in forward\r\n",
      "    v, pred, pair = self.predict(seq[i], param_on_cpu,\r\n",
      "                    ^^^^^^^^^^^^^^^^^^^^^^^^^^^^^^^^^^\r\n",
      "KeyboardInterrupt\r\n"
     ]
    }
   ],
   "source": [
    "DatasetName = \"ArchiveII\"\n",
    "Command = f\"\"\"\n",
    "mxfold2 train \\\n",
    "  {DatasetDirectory}/{DatasetName}-train-bpseq.lst \\\n",
    "  --param {ModelDirectory}/{DatasetName}-model.pth \\\n",
    "  --save-config {ModelDirectory}/{DatasetName}-model.conf \\\n",
    "  --gpu {GpuCount} \\\n",
    "  --epoch {EpochCount}\n",
    "\"\"\"\n",
    "!{Command}"
   ]
  },
  {
   "cell_type": "code",
   "execution_count": 11,
   "metadata": {
    "ExecuteTime": {
     "end_time": "2024-05-14T12:11:57.486556269Z",
     "start_time": "2024-05-14T12:11:57.338606950Z"
    }
   },
   "outputs": [
    {
     "name": "stdout",
     "output_type": "stream",
     "text": [
      "fish: Unknown command: mxfold2\r\n",
      "fish: \r\n",
      "mxfold2 predict @./{MODELS_DIR}/{DATASET_NAME}-model.conf {DATASET_DIR}/{DATASET_NAME}-test-bpseq.lst      --bpseq {ResultsDirectory} / {DatasetName} - -result {ResultsDirectory} / {DatasetName} - results.csv                                                           - -gpu {GpuCount}\r\n",
      "^~~~~~^\r\n"
     ]
    }
   ],
   "source": [
    "DatasetName = \"ArchiveII\"\n",
    "Command = f\"\"\"\n",
    "mxfold2 predict \\\n",
    "  @./{ModelDirectory}/{DatasetName}-model.conf \\\n",
    "  {DatasetDirectory}/{DatasetName}-test-bpseq.lst \\\n",
    "  --bpseq {ResultsDirectory}/{DatasetName} \\\n",
    "  --result {ResultsDirectory} / {DatasetName}-results.csv \\\n",
    "  --gpu {GpuCount}\n",
    "\n",
    "\"\"\"\n",
    "!{Command}"
   ]
  },
  {
   "cell_type": "markdown",
   "metadata": {},
   "source": [
    "## PDB Dataset"
   ]
  },
  {
   "cell_type": "code",
   "execution_count": 20,
   "metadata": {
    "ExecuteTime": {
     "end_time": "2024-05-14T12:17:36.960544344Z",
     "start_time": "2024-05-14T12:17:36.797774781Z"
    }
   },
   "outputs": [
    {
     "name": "stdout",
     "output_type": "stream",
     "text": [
      "fish: Unknown command: mxfold2\r\n",
      "fish: \r\n",
      "mxfold2 train   resources/datasets/PDB-train-bpseq.lst   --param resources/models/PDB-model.pth   --save-config resources/models/PDB-model.conf   --gpu -1   --epoch 1\r\n",
      "^~~~~~^\r\n"
     ]
    }
   ],
   "source": [
    "DatasetName = \"PDB\"\n",
    "Command = f\"\"\"\n",
    "mxfold2 train \\\n",
    "  {DatasetDirectory}/{DatasetName}-train-bpseq.lst \\\n",
    "  --param {ModelDirectory}/{DatasetName}-model.pth \\\n",
    "  --save-config {ModelDirectory}/{DatasetName}-model.conf \\\n",
    "  --gpu {GpuCount} \\\n",
    "  --epoch {EpochCount}\n",
    "\"\"\"\n",
    "!{Command}"
   ]
  },
  {
   "cell_type": "code",
   "execution_count": 13,
   "metadata": {
    "ExecuteTime": {
     "end_time": "2024-05-14T12:11:57.821761873Z",
     "start_time": "2024-05-14T12:11:57.661720730Z"
    }
   },
   "outputs": [
    {
     "name": "stdout",
     "output_type": "stream",
     "text": [
      "fish: Unknown command: mxfold2\r\n",
      "fish: \r\n",
      "mxfold2 predict @./{MODELS_DIR}/{DATASET_NAME}-model.conf {DATASET_DIR}/{DATASET_NAME}-test-bpseq.lst      --bpseq {ResultsDirectory} / {DatasetName} - -result {ResultsDirectory} / {DatasetName} - results.csv                                                           - -gpu {GpuCount}\r\n",
      "^~~~~~^\r\n"
     ]
    }
   ],
   "source": [
    "DatasetName = \"PDB\"\n",
    "Command = f\"\"\"\n",
    "mxfold2 predict \\\n",
    "  @./{ModelDirectory}/{DatasetName}-model.conf \\\n",
    "  {DatasetDirectory}/{DatasetName}-test-bpseq.lst \\\n",
    "  --bpseq {ResultsDirectory}/{DatasetName} \\\n",
    "  --result {ResultsDirectory} / {DatasetName}-results.csv \\\n",
    "  --gpu {GpuCount}\n",
    "\"\"\"\n",
    "\n",
    "!{Command}"
   ]
  },
  {
   "cell_type": "markdown",
   "metadata": {},
   "source": [
    "## Transfer Learning (ArchiveII -> PDB)"
   ]
  },
  {
   "cell_type": "code",
   "execution_count": 14,
   "metadata": {
    "ExecuteTime": {
     "end_time": "2024-05-14T12:11:57.999218500Z",
     "start_time": "2024-05-14T12:11:57.826279060Z"
    }
   },
   "outputs": [
    {
     "name": "stdout",
     "output_type": "stream",
     "text": [
      "fish: Unknown command: mxfold2\r\n",
      "fish: \r\n",
      "mxfold2 train @./{MODELS_DIR}/ArchiveII-model.conf {DATASET_DIR}/{DATASET_NAME}-train-bpseq.lst --init-param {MODELS_DIR}/ArchiveII-model.pth      --param {ModelDirectory} / TransferLearning - model.pth - -save - config {ModelDirectory} / TransferLearning - model.conf                                                                               - -gpu {GpuCount} - -epoch {EpochCount}\r\n",
      "^~~~~~^\r\n"
     ]
    }
   ],
   "source": [
    "DatasetName = \"PDB\"\n",
    "Command = f\"\"\"\n",
    "mxfold2 train \\\n",
    "  @./{ModelDirectory}/ArchiveII-model.conf \\\n",
    "  {DatasetDirectory}/{DatasetName}-train-bpseq.lst \\\n",
    "  --init-param {ModelDirectory}/ArchiveII-model.pth \\\n",
    "  --param {ModelDirectory}/TransferLearning-model.pth \\\n",
    "  --save-config {ModelDirectory}/TransferLearning-model.conf \\\n",
    "  --gpu {GpuCount} \\\n",
    "  --epoch {EpochCount}\n",
    "\"\"\"\n"
   ]
  },
  {
   "cell_type": "code",
   "execution_count": 15,
   "metadata": {
    "ExecuteTime": {
     "end_time": "2024-05-14T12:11:58.168405286Z",
     "start_time": "2024-05-14T12:11:58.015840567Z"
    }
   },
   "outputs": [
    {
     "name": "stdout",
     "output_type": "stream",
     "text": [
      "fish: Unknown command: mxfold2\r\n",
      "fish: \r\n",
      "mxfold2 predict @./resources/models/TransferLearning-model.conf {DATASET_DIR}/{DATASET_NAME}-test-bpseq.lst      --bpseq {ResultsDirectory} / TransferLearning - -result {ResultsDirectory} / TransferLearning - results.csv                                                              - -gpu {GpuCount}\r\n",
      "^~~~~~^\r\n"
     ]
    }
   ],
   "source": [
    "DatasetName = \"PDB\"\n",
    "Command = f\"\"\"\n",
    "mxfold2 predict \\\n",
    "  @./{ModelDirectory}/TransferLearning-model.conf \\\n",
    "  {DatasetDirectory}/{DatasetName}-test-bpseq.lst \\\n",
    "  --bpseq {ResultsDirectory}/TransferLearning \\\n",
    "  --result {ResultsDirectory}/TransferLearning-results.csv \\\n",
    "  --gpu {GpuCount}\n",
    "\"\"\"\n",
    "!{Command}"
   ]
  },
  {
   "cell_type": "markdown",
   "metadata": {},
   "source": [
    "## Results"
   ]
  },
  {
   "cell_type": "code",
   "execution_count": 16,
   "metadata": {
    "ExecuteTime": {
     "end_time": "2024-05-14T12:11:58.311200794Z",
     "start_time": "2024-05-14T12:11:58.182043971Z"
    }
   },
   "outputs": [
    {
     "data": {
      "text/plain": "                                            filename  sequence_length  \\\n0  resources/datasets/ArchiveII/tRNA_tdbR00000133...               74   \n1  resources/datasets/ArchiveII/tRNA_tdbR00000184...               76   \n2  resources/datasets/ArchiveII/RNaseP_C.trachoma...              408   \n3  resources/datasets/ArchiveII/5s_Graphiola-phoe...              118   \n4  resources/datasets/ArchiveII/srp_Clos.acet._AE...              262   \n\n   elapsed_time         sc  tp     tn  fp  fn       sen       ppv      fval  \\\n0      0.002692  21.262447  16   2670   9   6  0.727273  0.640000  0.680851   \n1      0.001992  10.454329  15   2830   0   5  0.750000  1.000000  0.857143   \n2      0.166454  87.740036  84  82868  29  47  0.641221  0.743363  0.688525   \n3      0.007524  31.200481  34   6866   2   1  0.971429  0.944444  0.957746   \n4      0.064446  63.901093  76  34095   7  13  0.853933  0.915663  0.883721   \n\n        mcc  \n0  0.679471  \n1  0.865261  \n2  0.689954  \n3  0.957624  \n4  0.883969  ",
      "text/html": "<div>\n<style scoped>\n    .dataframe tbody tr th:only-of-type {\n        vertical-align: middle;\n    }\n\n    .dataframe tbody tr th {\n        vertical-align: top;\n    }\n\n    .dataframe thead th {\n        text-align: right;\n    }\n</style>\n<table border=\"1\" class=\"dataframe\">\n  <thead>\n    <tr style=\"text-align: right;\">\n      <th></th>\n      <th>filename</th>\n      <th>sequence_length</th>\n      <th>elapsed_time</th>\n      <th>sc</th>\n      <th>tp</th>\n      <th>tn</th>\n      <th>fp</th>\n      <th>fn</th>\n      <th>sen</th>\n      <th>ppv</th>\n      <th>fval</th>\n      <th>mcc</th>\n    </tr>\n  </thead>\n  <tbody>\n    <tr>\n      <th>0</th>\n      <td>resources/datasets/ArchiveII/tRNA_tdbR00000133...</td>\n      <td>74</td>\n      <td>0.002692</td>\n      <td>21.262447</td>\n      <td>16</td>\n      <td>2670</td>\n      <td>9</td>\n      <td>6</td>\n      <td>0.727273</td>\n      <td>0.640000</td>\n      <td>0.680851</td>\n      <td>0.679471</td>\n    </tr>\n    <tr>\n      <th>1</th>\n      <td>resources/datasets/ArchiveII/tRNA_tdbR00000184...</td>\n      <td>76</td>\n      <td>0.001992</td>\n      <td>10.454329</td>\n      <td>15</td>\n      <td>2830</td>\n      <td>0</td>\n      <td>5</td>\n      <td>0.750000</td>\n      <td>1.000000</td>\n      <td>0.857143</td>\n      <td>0.865261</td>\n    </tr>\n    <tr>\n      <th>2</th>\n      <td>resources/datasets/ArchiveII/RNaseP_C.trachoma...</td>\n      <td>408</td>\n      <td>0.166454</td>\n      <td>87.740036</td>\n      <td>84</td>\n      <td>82868</td>\n      <td>29</td>\n      <td>47</td>\n      <td>0.641221</td>\n      <td>0.743363</td>\n      <td>0.688525</td>\n      <td>0.689954</td>\n    </tr>\n    <tr>\n      <th>3</th>\n      <td>resources/datasets/ArchiveII/5s_Graphiola-phoe...</td>\n      <td>118</td>\n      <td>0.007524</td>\n      <td>31.200481</td>\n      <td>34</td>\n      <td>6866</td>\n      <td>2</td>\n      <td>1</td>\n      <td>0.971429</td>\n      <td>0.944444</td>\n      <td>0.957746</td>\n      <td>0.957624</td>\n    </tr>\n    <tr>\n      <th>4</th>\n      <td>resources/datasets/ArchiveII/srp_Clos.acet._AE...</td>\n      <td>262</td>\n      <td>0.064446</td>\n      <td>63.901093</td>\n      <td>76</td>\n      <td>34095</td>\n      <td>7</td>\n      <td>13</td>\n      <td>0.853933</td>\n      <td>0.915663</td>\n      <td>0.883721</td>\n      <td>0.883969</td>\n    </tr>\n  </tbody>\n</table>\n</div>"
     },
     "execution_count": 16,
     "metadata": {},
     "output_type": "execute_result"
    }
   ],
   "source": [
    "columns: list[str] = [\n",
    "  \"filename\",\n",
    "  \"sequence_length\",\n",
    "  \"elapsed_time\",\n",
    "  \"sc\",\n",
    "  \"tp\",\n",
    "  \"tn\",\n",
    "  \"fp\",\n",
    "  \"fn\",\n",
    "  \"sen\",\n",
    "  \"ppv\",\n",
    "  \"fval\",\n",
    "  \"mcc\",\n",
    "]\n",
    "\n",
    "results = pd.read_csv(ResultsDirectory / \"ArchiveII-results.csv\", header=None, names=columns)\n",
    "results.head()"
   ]
  },
  {
   "cell_type": "code",
   "execution_count": 17,
   "metadata": {
    "ExecuteTime": {
     "end_time": "2024-05-14T12:11:58.313060039Z",
     "start_time": "2024-05-14T12:11:58.301795846Z"
    }
   },
   "outputs": [],
   "source": [
    "def calculate_metrics(results: pd.DataFrame) -> pd.DataFrame:\n",
    "  \"\"\"Calculate the metrics for the given results: INF, PPV, TPR, TNR.\"\"\"\n",
    "  tp_sum, tn_sum, fp_sum, fn_sum = results[[\"tp\", \"tn\", \"fp\", \"fn\"]].sum()\n",
    "  ppv = tp_sum / (tp_sum + fp_sum)\n",
    "  tpr = tp_sum / (tp_sum + fn_sum)\n",
    "  inf = (ppv * tpr) ** 0.5\n",
    "  tnr = tn_sum / (tn_sum + fp_sum)\n",
    "  return inf, ppv, tpr, tnr\n",
    "\n",
    "\n",
    "def plot_metrics(datasets: tuple[str]) -> None:\n",
    "  \"\"\"Plot the metrics for the given results.\"\"\"\n",
    "  metrics = defaultdict(dict)\n",
    "  for dataset in datasets:\n",
    "    df = pd.read_csv(ResultsDirectory / f\"{dataset}-results.csv\", header=None, names=columns)\n",
    "    inf, ppv, tpr, tnr = calculate_metrics(df)\n",
    "    metrics[\"inf\"].update({dataset: inf})\n",
    "    metrics[\"ppv\"].update({dataset: ppv})\n",
    "    metrics[\"tpr\"].update({dataset: tpr})\n",
    "    metrics[\"tnr\"].update({dataset: tnr})\n",
    "\n",
    "  colors = sns.color_palette(\"magma\", 3)\n",
    "  fig, axs = plt.subplots(2, 2, figsize=(12, 8), tight_layout=True)\n",
    "  ax1, ax2, ax3, ax4 = axs.flatten()\n",
    "\n",
    "  ax1.set_title(\"INF\")\n",
    "  ax1.bar(metrics[\"inf\"].keys(), metrics[\"inf\"].values(), color=colors, label=\"INF\")\n",
    "  ax1.grid(axis=\"y\", linestyle=\"--\", alpha=0.25)\n",
    "  ax1.set_xlabel(\"dataset\")\n",
    "  ax1.set_ylabel(\"score\")\n",
    "\n",
    "  ax2.set_title(\"PPV\")\n",
    "  ax2.bar(metrics[\"ppv\"].keys(), metrics[\"ppv\"].values(), color=colors, label=\"PPV\")\n",
    "  ax2.grid(axis=\"y\", linestyle=\"--\", alpha=0.25)\n",
    "  ax2.set_xlabel(\"dataset\")\n",
    "  ax2.set_ylabel(\"score\")\n",
    "\n",
    "  ax3.set_title(\"TPR\")\n",
    "  ax3.bar(metrics[\"tpr\"].keys(), metrics[\"tpr\"].values(), color=colors, label=\"TPR\")\n",
    "  ax3.grid(axis=\"y\", linestyle=\"--\", alpha=0.25)\n",
    "  ax3.set_xlabel(\"dataset\")\n",
    "  ax3.set_ylabel(\"score\")\n",
    "\n",
    "  ax4.set_title(\"TNR\")\n",
    "  ax4.bar(metrics[\"tnr\"].keys(), metrics[\"tnr\"].values(), color=colors, label=\"TNR\")\n",
    "  ax4.grid(axis=\"y\", linestyle=\"--\", alpha=0.25)\n",
    "  ax4.set_xlabel(\"dataset\")\n",
    "  ax4.set_ylabel(\"score\")\n",
    "\n",
    "  fig.savefig(FiguresDirectory / \"results.png\")"
   ]
  },
  {
   "cell_type": "code",
   "execution_count": 18,
   "metadata": {
    "ExecuteTime": {
     "end_time": "2024-05-14T12:12:01.426800259Z",
     "start_time": "2024-05-14T12:11:58.306282295Z"
    }
   },
   "outputs": [
    {
     "data": {
      "text/plain": "<Figure size 1200x800 with 4 Axes>",
      "image/png": "[encoded data removed]"
     },
     "metadata": {},
     "output_type": "display_data"
    }
   ],
   "source": [
    "datasets = (\"ArchiveII\", \"PDB\", \"TransferLearning\")\n",
    "\n",
    "plot_metrics(datasets)"
   ]
  }
 ],
 "metadata": {
  "kernelspec": {
   "display_name": ".venv",
   "language": "python",
   "name": "python3"
  },
  "language_info": {
   "codemirror_mode": {
    "name": "ipython",
    "version": 3
   },
   "file_extension": ".py",
   "mimetype": "text/x-python",
   "name": "python",
   "nbconvert_exporter": "python",
   "pygments_lexer": "ipython3",
   "version": "3.9.6"
  }
 },
 "nbformat": 4,
 "nbformat_minor": 2
}
